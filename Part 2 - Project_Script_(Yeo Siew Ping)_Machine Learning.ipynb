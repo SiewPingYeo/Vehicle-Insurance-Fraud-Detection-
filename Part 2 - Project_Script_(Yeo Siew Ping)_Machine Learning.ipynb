{
 "cells": [
  {
   "cell_type": "markdown",
   "id": "58030cfc",
   "metadata": {},
   "source": [
    "# Machine Learning for Vehicle Insurance Fraud Detection"
   ]
  },
  {
   "cell_type": "markdown",
   "id": "4792a839",
   "metadata": {},
   "source": [
    "This is the second part of the project, where the pre-processed data is used to train models for fraud prediction. \n",
    "As part of the business problem, we will address the end-goal for this project:\n",
    "\n",
    "**Problem Statement**\n",
    "\n",
    "In this project, we aim to help the insurance company to filter out potential fraud cases and minimise actual fraud cases.\n",
    "\n",
    "**End Goal** : Create a machine learning model to predict if a specific vehicle insurance claim is a fraudulent one. \n",
    "               Supervised classification model – predict if case is fraudulent or not (Binary Classification)\n",
    "               \n",
    "\n",
    "The workflow of this machine learning section will be as follows:\n",
    "\n",
    "1. Import relevant libraries and dataset \n",
    "2. Training multiple classification models and finding the optimal model\n",
    "    - Using oversampling method ADASYN and standard scaler \n",
    "    - Using oversampling method SMOTE and standard scaler\n",
    "    - Using oversampling method SMOTE, min-max scaler and standard scaler \n",
    "    - Using class weights in model training  and standard scaler \n",
    "3. Decide on the optimal model and conduct hyperparameter tuning \n",
    "4. Conclusion : Bringing in business costs to weigh the feasibility of the model\n",
    "\n",
    "- As this is a highly imbalanced dataset, we will need to apply different techniques to deal with the imbalanced class labels. The different techniques will be applied, together with the experimentation of different scaling techniques for the dataset.\n",
    "- Lastly, due to the nature of this project which deals with fraud cases, the metrics that we will be looking at would be **Recall, Precision, ROC AUC as well as Precision-Recall curve**. This is because it is much more important to catch most of the fraud cases compared to being accurate in this case. Nonetheless, it is still essential for us to bring in the actual business costs and decisions in order to decide whether the model can eventually be deployed for fraud prediction in real-life.  "
   ]
  },
  {
   "cell_type": "markdown",
   "id": "6c973563",
   "metadata": {},
   "source": [
    "# 1. Import relevant libraries and dataset "
   ]
  },
  {
   "cell_type": "code",
   "execution_count": 40,
   "id": "c977a68b",
   "metadata": {},
   "outputs": [],
   "source": [
    "import matplotlib.pyplot as plt\n",
    "import numpy as np\n",
    "import pandas as pd\n",
    "import seaborn as sns\n",
    "\n",
    "%matplotlib inline\n",
    "plt.style.use('ggplot')\n",
    "import pickle\n",
    "import warnings\n",
    "from collections import Counter\n",
    "\n",
    "import eli5\n",
    "import scipy.stats as spstats\n",
    "from imblearn.over_sampling import ADASYN, SMOTE, SMOTENC\n",
    "from imblearn.pipeline import Pipeline, make_pipeline\n",
    "from mlxtend.classifier import StackingClassifier\n",
    "from numpy import arange, argmax\n",
    "from sklearn import metrics\n",
    "from sklearn.compose import ColumnTransformer\n",
    "from sklearn.datasets import make_classification\n",
    "from sklearn.ensemble import GradientBoostingClassifier, RandomForestClassifier\n",
    "from sklearn.linear_model import LogisticRegression\n",
    "from sklearn.metrics import (classification_report, confusion_matrix, f1_score,\n",
    "                             precision_recall_curve, precision_score,\n",
    "                             recall_score, roc_auc_score)\n",
    "from sklearn.model_selection import (GridSearchCV, RepeatedStratifiedKFold,\n",
    "                                     StratifiedKFold, cross_val_score,\n",
    "                                     train_test_split)\n",
    "from sklearn.naive_bayes import GaussianNB\n",
    "from sklearn.neighbors import KNeighborsClassifier\n",
    "from sklearn.preprocessing import MinMaxScaler, OrdinalEncoder, StandardScaler\n",
    "from sklearn.svm import SVC\n",
    "from sklearn.tree import DecisionTreeClassifier\n",
    "from xgboost import XGBClassifier\n",
    "\n",
    "random = 42"
   ]
  },
  {
   "cell_type": "code",
   "execution_count": 3,
   "id": "36012e02",
   "metadata": {},
   "outputs": [],
   "source": [
    "df1 = pd.read_csv('machinelearn.csv')"
   ]
  },
  {
   "cell_type": "code",
   "execution_count": 4,
   "id": "b681779e",
   "metadata": {},
   "outputs": [
    {
     "name": "stdout",
     "output_type": "stream",
     "text": [
      "<class 'pandas.core.frame.DataFrame'>\n",
      "RangeIndex: 15419 entries, 0 to 15418\n",
      "Data columns (total 38 columns):\n",
      " #   Column                             Non-Null Count  Dtype  \n",
      "---  ------                             --------------  -----  \n",
      " 0   Unnamed: 0                         15419 non-null  int64  \n",
      " 1   FraudFound_P                       15419 non-null  int64  \n",
      " 2   AccidentArea_Urban                 15419 non-null  int64  \n",
      " 3   Sex_Male                           15419 non-null  int64  \n",
      " 4   Fault_Third Party                  15419 non-null  int64  \n",
      " 5   PoliceReportFiled_Yes              15419 non-null  int64  \n",
      " 6   WitnessPresent_Yes                 15419 non-null  int64  \n",
      " 7   AgentType_Internal                 15419 non-null  int64  \n",
      " 8   MaritalStatus_Others               15419 non-null  int64  \n",
      " 9   MaritalStatus_Single               15419 non-null  int64  \n",
      " 10  Days_Policy_Accident_more than 30  15419 non-null  int64  \n",
      " 11  Days_Policy_Claim_more than 30     15419 non-null  int64  \n",
      " 12  AddressChange_Claim_no change      15419 non-null  int64  \n",
      " 13  NumberOfCars_Others                15419 non-null  int64  \n",
      " 14  PolicyType_Sport                   15419 non-null  int64  \n",
      " 15  PolicyType_Utility                 15419 non-null  int64  \n",
      " 16  VehicleCategory_Sport              15419 non-null  int64  \n",
      " 17  VehicleCategory_Utility            15419 non-null  int64  \n",
      " 18  Year_1995                          15419 non-null  int64  \n",
      " 19  Year_1996                          15419 non-null  int64  \n",
      " 20  BasePolicy_Collision               15419 non-null  int64  \n",
      " 21  BasePolicy_Liability               15419 non-null  int64  \n",
      " 22  VehiclePrice                       15419 non-null  int64  \n",
      " 23  Deductible                         15419 non-null  int64  \n",
      " 24  DriverRating                       15419 non-null  int64  \n",
      " 25  PastNumberOfClaims                 15419 non-null  int64  \n",
      " 26  AgeOfVehicle                       15419 non-null  int64  \n",
      " 27  AgeOfPolicyHolder                  15419 non-null  int64  \n",
      " 28  NumberOfSuppliments                15419 non-null  int64  \n",
      " 29  Month                              15419 non-null  float64\n",
      " 30  WeekOfMonth                        15419 non-null  float64\n",
      " 31  DayOfWeek                          15419 non-null  float64\n",
      " 32  Make                               15419 non-null  float64\n",
      " 33  DayOfWeekClaimed                   15419 non-null  float64\n",
      " 34  MonthClaimed                       15419 non-null  float64\n",
      " 35  WeekOfMonthClaimed                 15419 non-null  float64\n",
      " 36  RepNumber                          15419 non-null  float64\n",
      " 37  Age_log                            15419 non-null  float64\n",
      "dtypes: float64(9), int64(29)\n",
      "memory usage: 4.5 MB\n"
     ]
    }
   ],
   "source": [
    "df1.info()"
   ]
  },
  {
   "cell_type": "code",
   "execution_count": 5,
   "id": "fd56a3bf",
   "metadata": {},
   "outputs": [],
   "source": [
    "df1.drop('Unnamed: 0', axis = 1, inplace = True)"
   ]
  },
  {
   "cell_type": "code",
   "execution_count": 6,
   "id": "01d1db7d",
   "metadata": {},
   "outputs": [
    {
     "data": {
      "text/html": [
       "<div>\n",
       "<style scoped>\n",
       "    .dataframe tbody tr th:only-of-type {\n",
       "        vertical-align: middle;\n",
       "    }\n",
       "\n",
       "    .dataframe tbody tr th {\n",
       "        vertical-align: top;\n",
       "    }\n",
       "\n",
       "    .dataframe thead th {\n",
       "        text-align: right;\n",
       "    }\n",
       "</style>\n",
       "<table border=\"1\" class=\"dataframe\">\n",
       "  <thead>\n",
       "    <tr style=\"text-align: right;\">\n",
       "      <th></th>\n",
       "      <th>FraudFound_P</th>\n",
       "      <th>AccidentArea_Urban</th>\n",
       "      <th>Sex_Male</th>\n",
       "      <th>Fault_Third Party</th>\n",
       "      <th>PoliceReportFiled_Yes</th>\n",
       "      <th>WitnessPresent_Yes</th>\n",
       "      <th>AgentType_Internal</th>\n",
       "      <th>MaritalStatus_Others</th>\n",
       "      <th>MaritalStatus_Single</th>\n",
       "      <th>Days_Policy_Accident_more than 30</th>\n",
       "      <th>...</th>\n",
       "      <th>NumberOfSuppliments</th>\n",
       "      <th>Month</th>\n",
       "      <th>WeekOfMonth</th>\n",
       "      <th>DayOfWeek</th>\n",
       "      <th>Make</th>\n",
       "      <th>DayOfWeekClaimed</th>\n",
       "      <th>MonthClaimed</th>\n",
       "      <th>WeekOfMonthClaimed</th>\n",
       "      <th>RepNumber</th>\n",
       "      <th>Age_log</th>\n",
       "    </tr>\n",
       "  </thead>\n",
       "  <tbody>\n",
       "    <tr>\n",
       "      <th>0</th>\n",
       "      <td>0</td>\n",
       "      <td>1</td>\n",
       "      <td>0</td>\n",
       "      <td>0</td>\n",
       "      <td>0</td>\n",
       "      <td>0</td>\n",
       "      <td>0</td>\n",
       "      <td>0</td>\n",
       "      <td>1</td>\n",
       "      <td>1</td>\n",
       "      <td>...</td>\n",
       "      <td>0</td>\n",
       "      <td>0.083339</td>\n",
       "      <td>0.106168</td>\n",
       "      <td>0.140022</td>\n",
       "      <td>0.181594</td>\n",
       "      <td>0.218886</td>\n",
       "      <td>0.093780</td>\n",
       "      <td>0.223685</td>\n",
       "      <td>0.063363</td>\n",
       "      <td>3.091042</td>\n",
       "    </tr>\n",
       "    <tr>\n",
       "      <th>1</th>\n",
       "      <td>0</td>\n",
       "      <td>1</td>\n",
       "      <td>1</td>\n",
       "      <td>0</td>\n",
       "      <td>1</td>\n",
       "      <td>0</td>\n",
       "      <td>0</td>\n",
       "      <td>0</td>\n",
       "      <td>1</td>\n",
       "      <td>1</td>\n",
       "      <td>...</td>\n",
       "      <td>0</td>\n",
       "      <td>0.091510</td>\n",
       "      <td>0.236072</td>\n",
       "      <td>0.140022</td>\n",
       "      <td>0.181594</td>\n",
       "      <td>0.243660</td>\n",
       "      <td>0.093780</td>\n",
       "      <td>0.222647</td>\n",
       "      <td>0.063299</td>\n",
       "      <td>3.555348</td>\n",
       "    </tr>\n",
       "    <tr>\n",
       "      <th>2</th>\n",
       "      <td>0</td>\n",
       "      <td>1</td>\n",
       "      <td>1</td>\n",
       "      <td>0</td>\n",
       "      <td>0</td>\n",
       "      <td>0</td>\n",
       "      <td>0</td>\n",
       "      <td>0</td>\n",
       "      <td>0</td>\n",
       "      <td>1</td>\n",
       "      <td>...</td>\n",
       "      <td>0</td>\n",
       "      <td>0.084636</td>\n",
       "      <td>0.106168</td>\n",
       "      <td>0.158571</td>\n",
       "      <td>0.181594</td>\n",
       "      <td>0.172514</td>\n",
       "      <td>0.083339</td>\n",
       "      <td>0.241261</td>\n",
       "      <td>0.069330</td>\n",
       "      <td>3.871201</td>\n",
       "    </tr>\n",
       "    <tr>\n",
       "      <th>3</th>\n",
       "      <td>0</td>\n",
       "      <td>0</td>\n",
       "      <td>1</td>\n",
       "      <td>1</td>\n",
       "      <td>1</td>\n",
       "      <td>0</td>\n",
       "      <td>0</td>\n",
       "      <td>0</td>\n",
       "      <td>0</td>\n",
       "      <td>1</td>\n",
       "      <td>...</td>\n",
       "      <td>3</td>\n",
       "      <td>0.085674</td>\n",
       "      <td>0.230689</td>\n",
       "      <td>0.128543</td>\n",
       "      <td>0.202413</td>\n",
       "      <td>0.161943</td>\n",
       "      <td>0.079447</td>\n",
       "      <td>0.223685</td>\n",
       "      <td>0.059148</td>\n",
       "      <td>4.189655</td>\n",
       "    </tr>\n",
       "    <tr>\n",
       "      <th>4</th>\n",
       "      <td>0</td>\n",
       "      <td>1</td>\n",
       "      <td>0</td>\n",
       "      <td>1</td>\n",
       "      <td>0</td>\n",
       "      <td>0</td>\n",
       "      <td>0</td>\n",
       "      <td>0</td>\n",
       "      <td>1</td>\n",
       "      <td>1</td>\n",
       "      <td>...</td>\n",
       "      <td>0</td>\n",
       "      <td>0.091510</td>\n",
       "      <td>0.106168</td>\n",
       "      <td>0.169596</td>\n",
       "      <td>0.181594</td>\n",
       "      <td>0.218886</td>\n",
       "      <td>0.083468</td>\n",
       "      <td>0.241261</td>\n",
       "      <td>0.061547</td>\n",
       "      <td>3.332205</td>\n",
       "    </tr>\n",
       "  </tbody>\n",
       "</table>\n",
       "<p>5 rows × 37 columns</p>\n",
       "</div>"
      ],
      "text/plain": [
       "   FraudFound_P  AccidentArea_Urban  Sex_Male  Fault_Third Party  \\\n",
       "0             0                   1         0                  0   \n",
       "1             0                   1         1                  0   \n",
       "2             0                   1         1                  0   \n",
       "3             0                   0         1                  1   \n",
       "4             0                   1         0                  1   \n",
       "\n",
       "   PoliceReportFiled_Yes  WitnessPresent_Yes  AgentType_Internal  \\\n",
       "0                      0                   0                   0   \n",
       "1                      1                   0                   0   \n",
       "2                      0                   0                   0   \n",
       "3                      1                   0                   0   \n",
       "4                      0                   0                   0   \n",
       "\n",
       "   MaritalStatus_Others  MaritalStatus_Single  \\\n",
       "0                     0                     1   \n",
       "1                     0                     1   \n",
       "2                     0                     0   \n",
       "3                     0                     0   \n",
       "4                     0                     1   \n",
       "\n",
       "   Days_Policy_Accident_more than 30  ...  NumberOfSuppliments     Month  \\\n",
       "0                                  1  ...                    0  0.083339   \n",
       "1                                  1  ...                    0  0.091510   \n",
       "2                                  1  ...                    0  0.084636   \n",
       "3                                  1  ...                    3  0.085674   \n",
       "4                                  1  ...                    0  0.091510   \n",
       "\n",
       "   WeekOfMonth  DayOfWeek      Make  DayOfWeekClaimed  MonthClaimed  \\\n",
       "0     0.106168   0.140022  0.181594          0.218886      0.093780   \n",
       "1     0.236072   0.140022  0.181594          0.243660      0.093780   \n",
       "2     0.106168   0.158571  0.181594          0.172514      0.083339   \n",
       "3     0.230689   0.128543  0.202413          0.161943      0.079447   \n",
       "4     0.106168   0.169596  0.181594          0.218886      0.083468   \n",
       "\n",
       "   WeekOfMonthClaimed  RepNumber   Age_log  \n",
       "0            0.223685   0.063363  3.091042  \n",
       "1            0.222647   0.063299  3.555348  \n",
       "2            0.241261   0.069330  3.871201  \n",
       "3            0.223685   0.059148  4.189655  \n",
       "4            0.241261   0.061547  3.332205  \n",
       "\n",
       "[5 rows x 37 columns]"
      ]
     },
     "execution_count": 6,
     "metadata": {},
     "output_type": "execute_result"
    }
   ],
   "source": [
    "df1.head()"
   ]
  },
  {
   "cell_type": "markdown",
   "id": "6aa3bf74",
   "metadata": {},
   "source": [
    "# 2. Training multiple classification models and finding the optimal model"
   ]
  },
  {
   "cell_type": "markdown",
   "id": "3e8b8c8b",
   "metadata": {},
   "source": [
    "In this section, we will train the dataset using several classification algorithms: \n",
    "1. Logistic Regression\n",
    "2. K-Nearest Neighbour\n",
    "3. Naives Bayes \n",
    "4. Random Forest\n",
    "5. XGBoost\n",
    "6. Gradient Boosting\n",
    "7. support Vector Machine \n",
    "\n",
    "The best model that suits the business problem based on the metrics - Recall, ROC AUC and Precision-Recall Curve will be selected for hyperparameter tuning. \n",
    "\n",
    "In addition, oversampling techniques such as ADASYN and SMOTE will be used. As this is a highly imbalanced dataset (only 6% are positive labels), these techniques will be applied after the train-test split of the dataset and only on the train set. This is to prevent:\n",
    "- Data Leakage \n",
    "- Idealistic situation of the reality where class labels are balanced. In reality, class labels in fraud context are always highly imbalanced. Therefore, the test dataset will not be oversampled to reflect the reality and allow the model to show its performance in a context that is close to the reality.  \n",
    "\n",
    "Other than using oversampling techniques, we will also explore the method fo adjusting class weights to penalise the minority class labels during model training. This can be another way to deal with this set of imbalanced dataset. "
   ]
  },
  {
   "cell_type": "markdown",
   "id": "d1ace9ae",
   "metadata": {},
   "source": [
    "## (a) ADASYN on train dataset and Standard Scaler"
   ]
  },
  {
   "cell_type": "code",
   "execution_count": 7,
   "id": "4a595ab4",
   "metadata": {},
   "outputs": [],
   "source": [
    "# Define X and y dataset for Machine Learning\n",
    "X = df1.iloc[:, 1::] \n",
    "y = df1.iloc[:, 0]"
   ]
  },
  {
   "cell_type": "markdown",
   "id": "c85b1fb3",
   "metadata": {},
   "source": [
    "The function **fit_score()** will be created to perform preliminary training using baseline models: \n",
    "1. train_test_split\n",
    "2. Fit and predict defined baseline models \n",
    "3. Stratified Cross Validation on train set\n",
    "4. Print Classification Report , AUC Score and mean CV score for each model"
   ]
  },
  {
   "cell_type": "code",
   "execution_count": 41,
   "id": "28a8401b",
   "metadata": {},
   "outputs": [],
   "source": [
    "# Define the oversampling technique to be applied \n",
    "imbal_tech = ADASYN(random_state= random)\n",
    "\n",
    "# Define the scaling or normalisation technique to be applied\n",
    "preprocessor =  StandardScaler()\n",
    "\n",
    "# Define the classifiers to be used for model training\n",
    "classifiers = {\"Logistic Regression\": LogisticRegression(solver = 'liblinear', random_state = random),\n",
    "          \"KNN\": KNeighborsClassifier(n_neighbors = 5, p = 2),\n",
    "          \"Naives Bayes\": GaussianNB(),\n",
    "          \"Random Forest Classifier\": RandomForestClassifier(n_estimators = 50, criterion = 'entropy', random_state = random),\n",
    "          \"XGboost\": XGBClassifier(objective='binary:logistic', random_state = random),\n",
    "          \"SVM\": SVC(probability=True, random_state = random), \n",
    "          \"Gradient Boosting\" : GradientBoostingClassifier(n_estimators=100, random_state= random)\n",
    "         }"
   ]
  },
  {
   "cell_type": "code",
   "execution_count": 42,
   "id": "9599e3a2",
   "metadata": {},
   "outputs": [],
   "source": [
    "# Create the function fit_score to streamline the training process and provide relevant metrics for evaluation\n",
    "# In the event oversampling is done, set imbalance = True , if not, set imbalance = False \n",
    "def fit_score (X, y, imbal_tech, preprocessor, classifiers, imbalance = True):\n",
    "    # Perform train test split on data\n",
    "    X_train, X_test, y_train, y_test = train_test_split(X,\n",
    "                                                    y,\n",
    "                                                    test_size= 0.25,\n",
    "                                                    stratify= y,random_state= 111)\n",
    "    \n",
    "    # Create empty lists for AUC score and cross validation scores\n",
    "    auc = {}\n",
    "    CV = {}\n",
    "    # Run a loop to go through every classifier model    \n",
    "    for name, classifier in classifiers.items():\n",
    "        if imbalance == True:     # if oversampling technique is applied\n",
    "            pipe = Pipeline(steps=[('imbal_tech', imbal_tech), ('preprocessor', preprocessor),\n",
    "                      ('classifier', classifier)])\n",
    "           \n",
    "        else:   # if oversampling method is not applied \n",
    "            pipe = Pipeline(steps=[('preprocessor', preprocessor),\n",
    "                      ('classifier', classifier)])\n",
    "            \n",
    "        \n",
    "        pipe.fit(X_train, y_train)\n",
    "        y_pred = pipe.predict(X_test)\n",
    "   \n",
    "       \n",
    "        stratified_kfold = StratifiedKFold(n_splits=3, shuffle = True,random_state= random)   # Do stratified kfold for CV\n",
    "    \n",
    "        scores = cross_val_score(pipe, X_train, y_train, cv = stratified_kfold, scoring = 'recall')\n",
    "        print(name, '\\n')\n",
    "        print(classification_report(y_test, y_pred))\n",
    "        auc[name] = roc_auc_score(y, classifier.predict_proba(X)[:, 1])\n",
    "        CV [name] = np.mean(scores) \n",
    "    \n",
    "    return (print('AUC Score: \\n', auc, '\\n'),  print('Mean CV Score (Recall): \\n', CV))"
   ]
  },
  {
   "cell_type": "code",
   "execution_count": 43,
   "id": "702724ce",
   "metadata": {},
   "outputs": [
    {
     "name": "stdout",
     "output_type": "stream",
     "text": [
      "Logistic Regression \n",
      "\n",
      "              precision    recall  f1-score   support\n",
      "\n",
      "           0       0.97      0.74      0.84      3624\n",
      "           1       0.13      0.62      0.22       231\n",
      "\n",
      "    accuracy                           0.73      3855\n",
      "   macro avg       0.55      0.68      0.53      3855\n",
      "weighted avg       0.92      0.73      0.80      3855\n",
      "\n",
      "KNN \n",
      "\n",
      "              precision    recall  f1-score   support\n",
      "\n",
      "           0       0.96      0.77      0.86      3624\n",
      "           1       0.12      0.50      0.20       231\n",
      "\n",
      "    accuracy                           0.76      3855\n",
      "   macro avg       0.54      0.64      0.53      3855\n",
      "weighted avg       0.91      0.76      0.82      3855\n",
      "\n",
      "Naives Bayes \n",
      "\n",
      "              precision    recall  f1-score   support\n",
      "\n",
      "           0       0.98      0.63      0.77      3624\n",
      "           1       0.12      0.81      0.21       231\n",
      "\n",
      "    accuracy                           0.64      3855\n",
      "   macro avg       0.55      0.72      0.49      3855\n",
      "weighted avg       0.93      0.64      0.74      3855\n",
      "\n",
      "Random Forest Classifier \n",
      "\n",
      "              precision    recall  f1-score   support\n",
      "\n",
      "           0       0.94      0.99      0.97      3624\n",
      "           1       0.32      0.04      0.08       231\n",
      "\n",
      "    accuracy                           0.94      3855\n",
      "   macro avg       0.63      0.52      0.52      3855\n",
      "weighted avg       0.91      0.94      0.91      3855\n",
      "\n",
      "XGboost \n",
      "\n",
      "              precision    recall  f1-score   support\n",
      "\n",
      "           0       0.94      0.99      0.97      3624\n",
      "           1       0.38      0.07      0.12       231\n",
      "\n",
      "    accuracy                           0.94      3855\n",
      "   macro avg       0.66      0.53      0.54      3855\n",
      "weighted avg       0.91      0.94      0.92      3855\n",
      "\n",
      "SVM \n",
      "\n",
      "              precision    recall  f1-score   support\n",
      "\n",
      "           0       0.96      0.84      0.90      3624\n",
      "           1       0.15      0.42      0.22       231\n",
      "\n",
      "    accuracy                           0.82      3855\n",
      "   macro avg       0.55      0.63      0.56      3855\n",
      "weighted avg       0.91      0.82      0.85      3855\n",
      "\n",
      "Gradient Boosting \n",
      "\n",
      "              precision    recall  f1-score   support\n",
      "\n",
      "           0       0.94      1.00      0.97      3624\n",
      "           1       0.00      0.00      0.00       231\n",
      "\n",
      "    accuracy                           0.94      3855\n",
      "   macro avg       0.47      0.50      0.48      3855\n",
      "weighted avg       0.88      0.94      0.91      3855\n",
      "\n",
      "AUC Score: \n",
      " {'Logistic Regression': 0.7374569201590936, 'KNN': 0.5676551935573365, 'Naives Bayes': 0.7709727224785288, 'Random Forest Classifier': 0.7777651218911362, 'XGboost': 0.72993338170473, 'SVM': 0.49517952723985276, 'Gradient Boosting': 0.776957935420299} \n",
      "\n",
      "Mean CV Score (Recall): \n",
      " {'Logistic Regression': 0.5896292113683418, 'KNN': 0.540523244871071, 'Naives Bayes': 0.7861722818244558, 'Random Forest Classifier': 0.04334023464458247, 'XGboost': 0.08090218959784178, 'SVM': 0.3887383148252714, 'Gradient Boosting': 0.007233828972959408}\n"
     ]
    },
    {
     "data": {
      "text/plain": [
       "(None, None)"
      ]
     },
     "execution_count": 43,
     "metadata": {},
     "output_type": "execute_result"
    }
   ],
   "source": [
    "fit_score(X, y, imbal_tech, preprocessor, classifiers, imbalance = True)"
   ]
  },
  {
   "cell_type": "markdown",
   "id": "29ef0424",
   "metadata": {},
   "source": [
    "Since the Naives Bayes Model and Logistic Regression Model have the highest Recall score, with decent AUC Score, we will proceed to do hyperparameter tuning for these two models and see if there can be any improvement. Mean CV score also shows that there is no overfitting of the models. "
   ]
  },
  {
   "cell_type": "markdown",
   "id": "6ead89df",
   "metadata": {},
   "source": [
    "### Hyperparameter tuning for Naives Bayes model "
   ]
  },
  {
   "cell_type": "code",
   "execution_count": 44,
   "id": "88c66391",
   "metadata": {},
   "outputs": [],
   "source": [
    "# Perform train test split for the dataset\n",
    "X_train, X_test, y_train, y_test = train_test_split(X,\n",
    "                                                    y,\n",
    "                                                    test_size= 0.25,\n",
    "                                                    stratify= y,\n",
    "                                                    random_state= 111)"
   ]
  },
  {
   "cell_type": "code",
   "execution_count": 45,
   "id": "48e38208",
   "metadata": {},
   "outputs": [
    {
     "data": {
      "text/plain": [
       "Text(0.5, 1.0, 'Balanced Dataset')"
      ]
     },
     "execution_count": 45,
     "metadata": {},
     "output_type": "execute_result"
    },
    {
     "data": {
      "image/png": "[encoded data removed]",
      "text/plain": [
       "<Figure size 432x288 with 1 Axes>"
      ]
     },
     "metadata": {},
     "output_type": "display_data"
    }
   ],
   "source": [
    "# Check for class distribution before oversampling is done \n",
    "pd.Series(y_test).value_counts().plot(kind=\"bar\")\n",
    "plt.title(\"Balanced Dataset\")"
   ]
  },
  {
   "cell_type": "code",
   "execution_count": 46,
   "id": "1a5b2d41",
   "metadata": {},
   "outputs": [],
   "source": [
    "# Apply ADASYN to only train set \n",
    "ada = ADASYN(random_state= random)\n",
    "X_ada, y_ada = ada.fit_resample(X_train, y_train)"
   ]
  },
  {
   "cell_type": "code",
   "execution_count": 47,
   "id": "7a76c601",
   "metadata": {},
   "outputs": [
    {
     "data": {
      "text/plain": [
       "Text(0.5, 1.0, 'Balanced Dataset')"
      ]
     },
     "execution_count": 47,
     "metadata": {},
     "output_type": "execute_result"
    },
    {
     "data": {
      "image/png": "[encoded data removed]",
      "text/plain": [
       "<Figure size 432x288 with 1 Axes>"
      ]
     },
     "metadata": {},
     "output_type": "display_data"
    }
   ],
   "source": [
    "# Check if ADASYN is successfully applied by looking at the distribution\n",
    "pd.Series(y_ada).value_counts().plot(kind=\"bar\")\n",
    "plt.title(\"Balanced Dataset\")"
   ]
  },
  {
   "cell_type": "code",
   "execution_count": 48,
   "id": "46c7e34c",
   "metadata": {},
   "outputs": [
    {
     "data": {
      "text/plain": [
       "array([[ 0.41653949,  0.43244556,  2.35747706, ...,  0.59558713,\n",
       "        -0.94351129, -1.24126034],\n",
       "       [ 0.41653949,  0.43244556, -0.42418228, ...,  0.59558713,\n",
       "        -0.27210637,  0.38455112],\n",
       "       [ 0.41653949, -2.3124298 , -0.42418228, ...,  0.11502033,\n",
       "         0.53357955, -0.14278838],\n",
       "       ...,\n",
       "       [-2.40073274,  0.43244556,  2.35747706, ...,  0.59558713,\n",
       "        -0.64809312, -0.65025464],\n",
       "       [-2.40073274,  0.43244556, -0.42418228, ...,  0.11502033,\n",
       "         0.56043574, -0.87514327],\n",
       "       [ 0.41653949,  0.43244556, -0.42418228, ...,  0.11502033,\n",
       "         0.29187377, -0.2387153 ]])"
      ]
     },
     "execution_count": 48,
     "metadata": {},
     "output_type": "execute_result"
    }
   ],
   "source": [
    "# Scale the data using Standard Scaler\n",
    "sc_ada = StandardScaler()\n",
    "X_train_ada = sc_ada.fit_transform(X_ada)\n",
    "\n",
    "X_test_ada = sc_ada.transform(X_test)\n",
    "X_test_ada"
   ]
  },
  {
   "cell_type": "code",
   "execution_count": 50,
   "id": "2b31516a",
   "metadata": {},
   "outputs": [
    {
     "name": "stdout",
     "output_type": "stream",
     "text": [
      "Fitting 10 folds for each of 100 candidates, totalling 1000 fits\n"
     ]
    },
    {
     "name": "stderr",
     "output_type": "stream",
     "text": [
      "[Parallel(n_jobs=-1)]: Using backend LokyBackend with 8 concurrent workers.\n",
      "[Parallel(n_jobs=-1)]: Done  34 tasks      | elapsed:    5.3s\n",
      "[Parallel(n_jobs=-1)]: Done 304 tasks      | elapsed:    8.2s\n",
      "[Parallel(n_jobs=-1)]: Done 804 tasks      | elapsed:   13.4s\n",
      "[Parallel(n_jobs=-1)]: Done 985 out of 1000 | elapsed:   15.2s remaining:    0.1s\n",
      "[Parallel(n_jobs=-1)]: Done 1000 out of 1000 | elapsed:   15.3s finished\n"
     ]
    }
   ],
   "source": [
    "# define models and parameters\n",
    "model = GaussianNB()\n",
    "grid = {\n",
    "    'var_smoothing': np.logspace(0,-9, num=100)\n",
    "}\n",
    "\n",
    "# define grid search\n",
    "cv = StratifiedKFold(n_splits=10, shuffle = True,random_state= random)\n",
    "grid_search = GridSearchCV(estimator=model, param_grid=grid, n_jobs=-1, cv= cv, scoring='recall',error_score=0, verbose = 1)\n",
    "grid_result = grid_search.fit(X_train_ada, y_ada)"
   ]
  },
  {
   "cell_type": "code",
   "execution_count": 51,
   "id": "2f401787",
   "metadata": {},
   "outputs": [
    {
     "name": "stdout",
     "output_type": "stream",
     "text": [
      "[1 1 1 ... 1 1 1]\n"
     ]
    }
   ],
   "source": [
    "#Use model to predict for test set\n",
    "y_pred = grid_search.predict(X_test_ada)\n",
    "print(y_pred)"
   ]
  },
  {
   "cell_type": "code",
   "execution_count": 52,
   "id": "92e53f0c",
   "metadata": {},
   "outputs": [
    {
     "name": "stdout",
     "output_type": "stream",
     "text": [
      "              precision    recall  f1-score   support\n",
      "\n",
      "           0       0.98      0.41      0.58      3624\n",
      "           1       0.09      0.87      0.16       231\n",
      "\n",
      "    accuracy                           0.44      3855\n",
      "   macro avg       0.53      0.64      0.37      3855\n",
      "weighted avg       0.93      0.44      0.56      3855\n",
      "\n"
     ]
    }
   ],
   "source": [
    "print(classification_report(y_test, y_pred))"
   ]
  },
  {
   "cell_type": "code",
   "execution_count": 53,
   "id": "2f0cdcca",
   "metadata": {},
   "outputs": [
    {
     "data": {
      "text/plain": [
       "{'var_smoothing': 1.0}"
      ]
     },
     "execution_count": 53,
     "metadata": {},
     "output_type": "execute_result"
    }
   ],
   "source": [
    "# Search for best params by grid search\n",
    "grid_search.best_params_"
   ]
  },
  {
   "cell_type": "code",
   "execution_count": 54,
   "id": "530535d0",
   "metadata": {},
   "outputs": [
    {
     "data": {
      "image/png": "[encoded data removed]",
      "text/plain": [
       "<Figure size 432x288 with 1 Axes>"
      ]
     },
     "metadata": {},
     "output_type": "display_data"
    }
   ],
   "source": [
    "y_pred_proba = grid_search.predict_proba(X_test_ada)[::,1]\n",
    "fpr, tpr, _ = metrics.roc_curve(y_test,  y_pred_proba)\n",
    "auc = metrics.roc_auc_score(y_test, y_pred_proba)\n",
    "\n",
    "#create ROC curve\n",
    "plt.plot(fpr,tpr,label=\"AUC=\"+str(auc))\n",
    "plt.ylabel('True Positive Rate')\n",
    "plt.xlabel('False Positive Rate')\n",
    "plt.legend(loc=4)\n",
    "plt.show()"
   ]
  },
  {
   "cell_type": "markdown",
   "id": "91be2d36",
   "metadata": {},
   "source": [
    "The Naives Bayes model has a higher recall score at 0.9 after hyperparameter tuning optimizing for recall. However, this model is not a good model as the precision severely lack behind for both classes. Therefore, this model will not be used.  "
   ]
  },
  {
   "cell_type": "markdown",
   "id": "d92da6c3",
   "metadata": {},
   "source": [
    "### Hyperparameter tuning for Logistic Regression Model"
   ]
  },
  {
   "cell_type": "code",
   "execution_count": 55,
   "id": "0dbbb5f2",
   "metadata": {},
   "outputs": [
    {
     "name": "stdout",
     "output_type": "stream",
     "text": [
      "Fitting 10 folds for each of 30 candidates, totalling 300 fits\n"
     ]
    },
    {
     "name": "stderr",
     "output_type": "stream",
     "text": [
      "[Parallel(n_jobs=-1)]: Using backend LokyBackend with 8 concurrent workers.\n",
      "[Parallel(n_jobs=-1)]: Done  34 tasks      | elapsed:    3.4s\n",
      "[Parallel(n_jobs=-1)]: Done 200 tasks      | elapsed:   35.7s\n",
      "[Parallel(n_jobs=-1)]: Done 300 out of 300 | elapsed:   40.2s finished\n"
     ]
    }
   ],
   "source": [
    "# define models and parameters\n",
    "model = LogisticRegression()\n",
    "solvers = ['newton-cg', 'lbfgs', 'liblinear']\n",
    "penalty = ['l2','l1']\n",
    "c_values = [100, 10, 1.0, 0.1, 0.01]\n",
    "\n",
    "# define grid search\n",
    "grid = dict(solver=solvers,penalty=penalty,C=c_values)\n",
    "cv = StratifiedKFold(n_splits=10, shuffle = True,random_state= random)\n",
    "grid_search = GridSearchCV(estimator=model, param_grid=grid, n_jobs=-1, cv=cv, scoring = 'recall',error_score=0, verbose = 1)\n",
    "grid_result = grid_search.fit(X_train_ada, y_ada)"
   ]
  },
  {
   "cell_type": "code",
   "execution_count": 56,
   "id": "42d9e413",
   "metadata": {},
   "outputs": [
    {
     "data": {
      "text/plain": [
       "array([0, 0, 0, ..., 0, 1, 1], dtype=int64)"
      ]
     },
     "execution_count": 56,
     "metadata": {},
     "output_type": "execute_result"
    }
   ],
   "source": [
    "#Use model to predict for test set\n",
    "y_pred = grid_search.predict(X_test_ada)\n",
    "y_pred"
   ]
  },
  {
   "cell_type": "code",
   "execution_count": 57,
   "id": "246eef19",
   "metadata": {},
   "outputs": [
    {
     "name": "stdout",
     "output_type": "stream",
     "text": [
      "              precision    recall  f1-score   support\n",
      "\n",
      "           0       0.97      0.72      0.82      3624\n",
      "           1       0.13      0.69      0.23       231\n",
      "\n",
      "    accuracy                           0.71      3855\n",
      "   macro avg       0.55      0.70      0.52      3855\n",
      "weighted avg       0.92      0.71      0.79      3855\n",
      "\n"
     ]
    }
   ],
   "source": [
    "print(classification_report(y_test, y_pred))"
   ]
  },
  {
   "cell_type": "code",
   "execution_count": 58,
   "id": "913c2175",
   "metadata": {},
   "outputs": [
    {
     "data": {
      "text/plain": [
       "{'C': 0.01, 'penalty': 'l1', 'solver': 'liblinear'}"
      ]
     },
     "execution_count": 58,
     "metadata": {},
     "output_type": "execute_result"
    }
   ],
   "source": [
    "# Search for best params by grid search\n",
    "grid_search.best_params_"
   ]
  },
  {
   "cell_type": "code",
   "execution_count": 59,
   "id": "bbf738f1",
   "metadata": {},
   "outputs": [
    {
     "data": {
      "image/png": "[encoded data removed]",
      "text/plain": [
       "<Figure size 432x288 with 1 Axes>"
      ]
     },
     "metadata": {},
     "output_type": "display_data"
    }
   ],
   "source": [
    "y_pred_proba = grid_search.predict_proba(X_test_ada)[::,1]\n",
    "fpr, tpr, _ = metrics.roc_curve(y_test,  y_pred_proba)\n",
    "auc = metrics.roc_auc_score(y_test, y_pred_proba)\n",
    "\n",
    "#create ROC curve\n",
    "plt.plot(fpr,tpr,label=\"AUC=\"+str(auc))\n",
    "plt.ylabel('True Positive Rate')\n",
    "plt.xlabel('False Positive Rate')\n",
    "plt.legend(loc=4)\n",
    "plt.show()"
   ]
  },
  {
   "cell_type": "markdown",
   "id": "a3774000",
   "metadata": {},
   "source": [
    "The results looks decent and there is an improvement in recall and AUC score from the baseline log regression model. \n",
    "We will KIV this model for a final evaluation later on. \n",
    "\n",
    "We shall now explore using another oversampling method - SMOTE with standard scaler."
   ]
  },
  {
   "cell_type": "markdown",
   "id": "e4b4ceeb",
   "metadata": {},
   "source": [
    "## (b) Using SMOTE on train set and Standard Scaler "
   ]
  },
  {
   "cell_type": "markdown",
   "id": "a41646ef",
   "metadata": {},
   "source": [
    "Use function fit_score to do training using baseline models."
   ]
  },
  {
   "cell_type": "code",
   "execution_count": 63,
   "id": "68a2fc2a",
   "metadata": {},
   "outputs": [
    {
     "name": "stdout",
     "output_type": "stream",
     "text": [
      "Logistic Regression \n",
      "\n",
      "              precision    recall  f1-score   support\n",
      "\n",
      "           0       0.97      0.74      0.84      3624\n",
      "           1       0.13      0.62      0.22       231\n",
      "\n",
      "    accuracy                           0.73      3855\n",
      "   macro avg       0.55      0.68      0.53      3855\n",
      "weighted avg       0.92      0.73      0.80      3855\n",
      "\n",
      "KNN \n",
      "\n",
      "              precision    recall  f1-score   support\n",
      "\n",
      "           0       0.96      0.77      0.86      3624\n",
      "           1       0.13      0.53      0.21       231\n",
      "\n",
      "    accuracy                           0.76      3855\n",
      "   macro avg       0.55      0.65      0.53      3855\n",
      "weighted avg       0.91      0.76      0.82      3855\n",
      "\n",
      "Naives Bayes \n",
      "\n",
      "              precision    recall  f1-score   support\n",
      "\n",
      "           0       0.98      0.63      0.77      3624\n",
      "           1       0.12      0.82      0.21       231\n",
      "\n",
      "    accuracy                           0.64      3855\n",
      "   macro avg       0.55      0.72      0.49      3855\n",
      "weighted avg       0.93      0.64      0.73      3855\n",
      "\n",
      "Random Forest Classifier \n",
      "\n",
      "              precision    recall  f1-score   support\n",
      "\n",
      "           0       0.94      1.00      0.97      3624\n",
      "           1       0.50      0.06      0.11       231\n",
      "\n",
      "    accuracy                           0.94      3855\n",
      "   macro avg       0.72      0.53      0.54      3855\n",
      "weighted avg       0.92      0.94      0.92      3855\n",
      "\n",
      "XGboost \n",
      "\n",
      "              precision    recall  f1-score   support\n",
      "\n",
      "           0       0.94      1.00      0.97      3624\n",
      "           1       0.44      0.06      0.11       231\n",
      "\n",
      "    accuracy                           0.94      3855\n",
      "   macro avg       0.69      0.53      0.54      3855\n",
      "weighted avg       0.91      0.94      0.92      3855\n",
      "\n",
      "SVM \n",
      "\n",
      "              precision    recall  f1-score   support\n",
      "\n",
      "           0       0.96      0.85      0.90      3624\n",
      "           1       0.15      0.42      0.22       231\n",
      "\n",
      "    accuracy                           0.82      3855\n",
      "   macro avg       0.55      0.64      0.56      3855\n",
      "weighted avg       0.91      0.82      0.86      3855\n",
      "\n",
      "Gradient Boosting \n",
      "\n",
      "              precision    recall  f1-score   support\n",
      "\n",
      "           0       0.94      1.00      0.97      3624\n",
      "           1       0.00      0.00      0.00       231\n",
      "\n",
      "    accuracy                           0.94      3855\n",
      "   macro avg       0.47      0.50      0.48      3855\n",
      "weighted avg       0.88      0.94      0.91      3855\n",
      "\n",
      "AUC Score: \n",
      " {'Logistic Regression': 0.7327538631346577, 'KNN': 0.5729895376675062, 'Naives Bayes': 0.767107345636051, 'Random Forest Classifier': 0.7689579327296775, 'XGboost': 0.7662288950633671, 'SVM': 0.4917195373805065, 'Gradient Boosting': 0.7769083831397281} \n",
      "\n",
      "Mean CV Score (Recall): \n",
      " {'Logistic Regression': 0.5867494824016563, 'KNN': 0.5361565970261623, 'Naives Bayes': 0.78040027605245, 'Random Forest Classifier': 0.060693895476504174, 'XGboost': 0.07080117949683168, 'SVM': 0.38153585544889895, 'Gradient Boosting': 0.007227555053642011}\n"
     ]
    },
    {
     "name": "stderr",
     "output_type": "stream",
     "text": [
      "C:\\Users\\yeosi\\anaconda3\\envs\\baseclone\\lib\\site-packages\\sklearn\\metrics\\_classification.py:1221: UndefinedMetricWarning: Precision and F-score are ill-defined and being set to 0.0 in labels with no predicted samples. Use `zero_division` parameter to control this behavior.\n",
      "  _warn_prf(average, modifier, msg_start, len(result))\n"
     ]
    },
    {
     "data": {
      "text/plain": [
       "(None, None)"
      ]
     },
     "execution_count": 63,
     "metadata": {},
     "output_type": "execute_result"
    }
   ],
   "source": [
    "# Define the oversampling technique to be applied \n",
    "imbal_tech = SMOTE(random_state= random)\n",
    "\n",
    "# Define the scaling or normalisation technique to be applied\n",
    "preprocessor =  StandardScaler()\n",
    "\n",
    "# Define the classifiers to be used for model training\n",
    "classifiers = {\"Logistic Regression\": LogisticRegression(solver = 'liblinear', random_state = random),\n",
    "          \"KNN\": KNeighborsClassifier(n_neighbors = 5, p = 2),\n",
    "          \"Naives Bayes\": GaussianNB(),\n",
    "          \"Random Forest Classifier\": RandomForestClassifier(n_estimators = 50, criterion = 'entropy', random_state = random),\n",
    "          \"XGboost\": XGBClassifier(objective='binary:logistic', random_state = random),\n",
    "          \"SVM\": SVC(probability=True, random_state = random), \n",
    "          \"Gradient Boosting\" : GradientBoostingClassifier(n_estimators=100, random_state= random)\n",
    "         }\n",
    "\n",
    "\n",
    "\n",
    "\n",
    "fit_score (X, y, imbal_tech, preprocessor, classifiers, imbalance = True)"
   ]
  },
  {
   "cell_type": "markdown",
   "id": "cb759994",
   "metadata": {},
   "source": [
    "Results seem to be highly similar to the results from ADASYN oversampling technique. Therefore, we will not go ahead to do the hyperparameter tuning for any models. Instead, we will explore model stacking as part f the emsemble technique to see if we can get a better result. The models selected for stacking would be logistic regression, KNN and naives bayes. These models are chosen as they have better recall and AUC scores. "
   ]
  },
  {
   "cell_type": "markdown",
   "id": "64d0affb",
   "metadata": {},
   "source": [
    "## Stacking Models ( Ensemble Technique)"
   ]
  },
  {
   "cell_type": "code",
   "execution_count": 64,
   "id": "00dae176",
   "metadata": {},
   "outputs": [],
   "source": [
    "# Carry out SMOTE on the train dataset only to deal with imbalanced data \n",
    "sm = SMOTE(random_state= random)\n",
    "X_res, y_res = sm.fit_resample(X_train, y_train)"
   ]
  },
  {
   "cell_type": "code",
   "execution_count": 65,
   "id": "9a68c25c",
   "metadata": {},
   "outputs": [],
   "source": [
    "# Scale the X train and X test set using Standard scaler \n",
    "sc_1 = StandardScaler()\n",
    "X_train_SMOTE = sc_1.fit_transform(X_res)\n",
    "X_test_SMOTE = sc_1.transform(X_test)"
   ]
  },
  {
   "cell_type": "code",
   "execution_count": 66,
   "id": "1c9d4e23",
   "metadata": {},
   "outputs": [
    {
     "name": "stdout",
     "output_type": "stream",
     "text": [
      "5-fold cross validation:\n",
      "\n",
      "Recall: 0.96 (+/- 0.01) [KNN]\n",
      "Recall: 0.65 (+/- 0.01) [KNN]\n",
      "Recall: 0.86 (+/- 0.04) [Naive Bayes]\n",
      "Recall: 0.76 (+/- 0.04) [Naive Bayes]\n",
      "Recall: 0.96 (+/- 0.01) [StackingClassifier]\n",
      "Recall: 0.76 (+/- 0.01) [StackingClassifier]\n"
     ]
    }
   ],
   "source": [
    "# Define the models to be used and the stacking classifier \n",
    "clf1 = KNeighborsClassifier(n_neighbors = 5, p = 2, weights = 'distance')\n",
    "clf2 = GaussianNB()\n",
    "lr = LogisticRegression(solver = 'liblinear', class_weight = 'balanced', random_state = random)\n",
    "sclf = StackingClassifier(classifiers=[clf1, clf2],\n",
    "                          use_probas=True,         # \n",
    "                          average_probas=False,\n",
    "                          meta_classifier=lr)\n",
    "\n",
    "print('5-fold cross validation:\\n')\n",
    "# Perform Cross validation base don AUC score for all models\n",
    "for clf, label in zip([clf1, clf2, sclf], \n",
    "                      ['KNN', \n",
    "                       'Naive Bayes',\n",
    "                       'StackingClassifier']):\n",
    "\n",
    "    scores = cross_val_score(clf, X_train_SMOTE, y_res, \n",
    "                                              cv=5, scoring='roc_auc')\n",
    "    \n",
    "    test_scores = cross_val_score(clf, X_test_SMOTE, y_test, \n",
    "                                              cv=5, scoring='roc_auc')\n",
    "    print(\"Recall: %0.2f (+/- %0.2f) [%s]\" \n",
    "          % (scores.mean(), scores.std(), label))\n",
    "    print(\"Recall: %0.2f (+/- %0.2f) [%s]\" \n",
    "          % (test_scores.mean(), scores.std(), label))"
   ]
  },
  {
   "cell_type": "markdown",
   "id": "e186e065",
   "metadata": {},
   "source": [
    "There are signs of overfitting in all models as the CV score in the test set is much lower than the train set. "
   ]
  },
  {
   "cell_type": "code",
   "execution_count": 67,
   "id": "b73f304a",
   "metadata": {},
   "outputs": [],
   "source": [
    "sclf.fit(X_train_SMOTE, y_res)\n",
    "y_pred = sclf.predict(X_test_SMOTE)"
   ]
  },
  {
   "cell_type": "code",
   "execution_count": 68,
   "id": "50a487f8",
   "metadata": {},
   "outputs": [
    {
     "name": "stdout",
     "output_type": "stream",
     "text": [
      "              precision    recall  f1-score   support\n",
      "\n",
      "           0       0.96      0.77      0.86      3624\n",
      "           1       0.13      0.53      0.21       231\n",
      "\n",
      "    accuracy                           0.76      3855\n",
      "   macro avg       0.55      0.65      0.53      3855\n",
      "weighted avg       0.91      0.76      0.82      3855\n",
      "\n"
     ]
    }
   ],
   "source": [
    "print(classification_report(y_test, y_pred))"
   ]
  },
  {
   "cell_type": "code",
   "execution_count": 69,
   "id": "c8cbc092",
   "metadata": {},
   "outputs": [
    {
     "data": {
      "text/plain": [
       "Text(0.5, 1.0, 'AUC')"
      ]
     },
     "execution_count": 69,
     "metadata": {},
     "output_type": "execute_result"
    },
    {
     "data": {
      "image/png": "[encoded data removed]",
      "text/plain": [
       "<Figure size 432x288 with 1 Axes>"
      ]
     },
     "metadata": {},
     "output_type": "display_data"
    }
   ],
   "source": [
    "y_pred_proba = sclf.predict_proba(X_test_SMOTE)[::,1]\n",
    "fpr, tpr, _ = metrics.roc_curve(y_test,  y_pred_proba)\n",
    "auc = metrics.roc_auc_score(y_test, y_pred_proba)\n",
    "\n",
    "#create ROC curve\n",
    "plt.plot(fpr,tpr,label=\"AUC=\"+str(auc))\n",
    "plt.ylabel('True Positive Rate')\n",
    "plt.xlabel('False Positive Rate')\n",
    "plt.legend(loc=4)\n",
    "plt.title('AUC')"
   ]
  },
  {
   "cell_type": "code",
   "execution_count": 70,
   "id": "616ab2af",
   "metadata": {},
   "outputs": [
    {
     "data": {
      "text/plain": [
       "Text(0.5, 1.0, 'Precision-Recall Curve')"
      ]
     },
     "execution_count": 70,
     "metadata": {},
     "output_type": "execute_result"
    },
    {
     "data": {
      "image/png": "[encoded data removed]",
      "text/plain": [
       "<Figure size 432x288 with 1 Axes>"
      ]
     },
     "metadata": {},
     "output_type": "display_data"
    }
   ],
   "source": [
    "precision, recall, thresholds = precision_recall_curve(y_test, y_pred)\n",
    "# plot the model precision-recall curve\n",
    "plt.plot(recall, precision, marker='.', label='Stacking classifier')\n",
    "# axis labels\n",
    "plt.xlabel('Recall')\n",
    "plt.ylabel('Precision')\n",
    "# show the legend\n",
    "plt.legend()\n",
    "plt.title('Precision-Recall Curve')"
   ]
  },
  {
   "cell_type": "markdown",
   "id": "1ed12e82",
   "metadata": {},
   "source": [
    "Although AUC score is not too bad, recall score is not as good as expected. There are also signs of overfitting as well. "
   ]
  },
  {
   "cell_type": "code",
   "execution_count": 71,
   "id": "1d167d01",
   "metadata": {},
   "outputs": [
    {
     "name": "stdout",
     "output_type": "stream",
     "text": [
      "Counter({0: 2911, 1: 944})\n"
     ]
    },
    {
     "data": {
      "text/plain": [
       "Text(0.5, 1.0, 'Probabilities for Positive Class')"
      ]
     },
     "execution_count": 71,
     "metadata": {},
     "output_type": "execute_result"
    },
    {
     "data": {
      "image/png": "[encoded data removed]",
      "text/plain": [
       "<Figure size 432x288 with 1 Axes>"
      ]
     },
     "metadata": {},
     "output_type": "display_data"
    }
   ],
   "source": [
    "# summarize the distribution of predicted probabilities for positive class\n",
    "\n",
    "sclf.fit(X_train_SMOTE, y_res)\n",
    "yhat = sclf.predict_proba(X_test_SMOTE)\n",
    "# retrieve just the probabilities for the positive class\n",
    "pos_probs = yhat[:, 1]\n",
    "# predict class labels\n",
    "yhat = sclf.predict(X_test_SMOTE)\n",
    "# summarize the distribution of class labels\n",
    "print(Counter(yhat))\n",
    "# create a histogram of the predicted probabilities\n",
    "plt.hist(pos_probs, bins=50)\n",
    "plt.title('Probabilities for Positive Class')"
   ]
  },
  {
   "cell_type": "markdown",
   "id": "477b279e",
   "metadata": {},
   "source": [
    "The probabilities of positive class seem to be on the low side. We shall now explore if finding the optimal probability threshold will help to improve the results. "
   ]
  },
  {
   "cell_type": "code",
   "execution_count": 74,
   "id": "222dab8e",
   "metadata": {},
   "outputs": [
    {
     "name": "stdout",
     "output_type": "stream",
     "text": [
      "Threshold=0.190, F-Score=0.22385\n"
     ]
    }
   ],
   "source": [
    "# apply threshold to positive probabilities to create labels\n",
    "def to_labels(pos_probs, threshold):\n",
    "    return (pos_probs >= threshold).astype('int')\n",
    "\n",
    "yhat = sclf.predict_proba(X_test_SMOTE)\n",
    "# keep probabilities for the positive outcome only\n",
    "probs = yhat[:, 1]\n",
    "# define thresholds\n",
    "thresholds = arange(0, 1, 0.001)\n",
    "# evaluate each threshold\n",
    "scores = [f1_score(y_test, to_labels(probs, t)) for t in thresholds]\n",
    "# get best threshold\n",
    "ix = argmax(scores)\n",
    "print('Threshold=%.3f, F-Score=%.5f' % (thresholds[ix], scores[ix]))"
   ]
  },
  {
   "cell_type": "code",
   "execution_count": 77,
   "id": "1eb8c06e",
   "metadata": {},
   "outputs": [
    {
     "data": {
      "text/plain": [
       "array([0, 1, 0, ..., 0, 0, 0])"
      ]
     },
     "execution_count": 77,
     "metadata": {},
     "output_type": "execute_result"
    }
   ],
   "source": [
    "y_pred_new_threshold = (sclf.predict_proba(X_test_SMOTE)[:,1]>=thresholds[ix]).astype(int)\n",
    "y_pred_new_threshold"
   ]
  },
  {
   "cell_type": "code",
   "execution_count": 78,
   "id": "b52409be",
   "metadata": {},
   "outputs": [
    {
     "name": "stdout",
     "output_type": "stream",
     "text": [
      "              precision    recall  f1-score   support\n",
      "\n",
      "           0       0.97      0.73      0.83      3624\n",
      "           1       0.13      0.66      0.22       231\n",
      "\n",
      "    accuracy                           0.72      3855\n",
      "   macro avg       0.55      0.70      0.53      3855\n",
      "weighted avg       0.92      0.72      0.80      3855\n",
      "\n"
     ]
    }
   ],
   "source": [
    "print(classification_report(y_test, y_pred_new_threshold))"
   ]
  },
  {
   "cell_type": "markdown",
   "id": "c1ac7aa3",
   "metadata": {},
   "source": [
    "Adjusting the optimal threshold helps slightly but it is still not the best model due to signs of overfitting. \n",
    "\n",
    "We will now explore whether the use of min-max scaler for the categorical features and standard scaler for the continuous features will yield better results."
   ]
  },
  {
   "cell_type": "markdown",
   "id": "1a706243",
   "metadata": {},
   "source": [
    "##  (C) Using SMOTE on train set , MinMax Scaler and Standard Scaler "
   ]
  },
  {
   "cell_type": "markdown",
   "id": "bca74af2",
   "metadata": {},
   "source": [
    "For this iteration, min max scaler is used for categorical features while standard scaler is used for continuous features. The oversmapling technique used will still be SMOTE."
   ]
  },
  {
   "cell_type": "code",
   "execution_count": 80,
   "id": "2148e587",
   "metadata": {},
   "outputs": [],
   "source": [
    "# Define the oversampling technique to be applied \n",
    "imbal_tech = SMOTE(random_state= random)\n",
    "\n",
    "# Define the scaling or normalisation technique to be applied\n",
    "\n",
    "# For Numeric column - Age_log\n",
    "numeric_transformer = Pipeline(steps=[('numscaler', StandardScaler())])\n",
    "numeric_features = (df1.iloc[:, -1:]).columns\n",
    "\n",
    "# For all other categorical columns \n",
    "categorical_transformer = Pipeline(steps=[('catscaler', MinMaxScaler())])\n",
    "categorical_features = (df1.iloc[:, 1:-1]).columns\n",
    "\n",
    "preprocessor = ColumnTransformer(\n",
    "    transformers=[\n",
    "        ('num', numeric_transformer, numeric_features),\n",
    "        ('cat', categorical_transformer, categorical_features)])\n",
    "\n",
    "\n",
    "# Define the classifiers to be used for model training\n",
    "classifiers = {\"Logistic Regression\": LogisticRegression(solver = 'liblinear', random_state = random),\n",
    "          \"KNN\": KNeighborsClassifier(n_neighbors = 5, p = 2),\n",
    "          \"Naives Bayes\": GaussianNB(),\n",
    "          \"Random Forest Classifier\": RandomForestClassifier(n_estimators = 50, criterion = 'entropy', random_state = random),\n",
    "          \"XGboost\": XGBClassifier(objective='binary:logistic', random_state = random),\n",
    "          \"SVM\": SVC(probability=True, random_state = random), \n",
    "          \"Gradient Boosting\" : GradientBoostingClassifier(n_estimators=100, random_state= random)\n",
    "         }"
   ]
  },
  {
   "cell_type": "code",
   "execution_count": 81,
   "id": "bb65721b",
   "metadata": {},
   "outputs": [
    {
     "name": "stdout",
     "output_type": "stream",
     "text": [
      "Logistic Regression \n",
      "\n",
      "              precision    recall  f1-score   support\n",
      "\n",
      "           0       0.97      0.74      0.84      3624\n",
      "           1       0.13      0.64      0.22       231\n",
      "\n",
      "    accuracy                           0.73      3855\n",
      "   macro avg       0.55      0.69      0.53      3855\n",
      "weighted avg       0.92      0.73      0.80      3855\n",
      "\n",
      "KNN \n",
      "\n",
      "              precision    recall  f1-score   support\n",
      "\n",
      "           0       0.96      0.76      0.85      3624\n",
      "           1       0.12      0.52      0.20       231\n",
      "\n",
      "    accuracy                           0.75      3855\n",
      "   macro avg       0.54      0.64      0.53      3855\n",
      "weighted avg       0.91      0.75      0.81      3855\n",
      "\n",
      "Naives Bayes \n",
      "\n",
      "              precision    recall  f1-score   support\n",
      "\n",
      "           0       0.98      0.63      0.77      3624\n",
      "           1       0.12      0.82      0.21       231\n",
      "\n",
      "    accuracy                           0.64      3855\n",
      "   macro avg       0.55      0.72      0.49      3855\n",
      "weighted avg       0.93      0.64      0.73      3855\n",
      "\n",
      "Random Forest Classifier \n",
      "\n",
      "              precision    recall  f1-score   support\n",
      "\n",
      "           0       0.94      0.99      0.97      3624\n",
      "           1       0.36      0.06      0.11       231\n",
      "\n",
      "    accuracy                           0.94      3855\n",
      "   macro avg       0.65      0.53      0.54      3855\n",
      "weighted avg       0.91      0.94      0.92      3855\n",
      "\n",
      "XGboost \n",
      "\n",
      "              precision    recall  f1-score   support\n",
      "\n",
      "           0       0.94      1.00      0.97      3624\n",
      "           1       0.44      0.06      0.11       231\n",
      "\n",
      "    accuracy                           0.94      3855\n",
      "   macro avg       0.69      0.53      0.54      3855\n",
      "weighted avg       0.91      0.94      0.92      3855\n",
      "\n",
      "SVM \n",
      "\n",
      "              precision    recall  f1-score   support\n",
      "\n",
      "           0       0.96      0.80      0.87      3624\n",
      "           1       0.14      0.53      0.23       231\n",
      "\n",
      "    accuracy                           0.78      3855\n",
      "   macro avg       0.55      0.67      0.55      3855\n",
      "weighted avg       0.91      0.78      0.84      3855\n",
      "\n",
      "Gradient Boosting \n",
      "\n",
      "              precision    recall  f1-score   support\n",
      "\n",
      "           0       0.94      1.00      0.97      3624\n",
      "           1       0.00      0.00      0.00       231\n",
      "\n",
      "    accuracy                           0.94      3855\n",
      "   macro avg       0.47      0.50      0.48      3855\n",
      "weighted avg       0.88      0.94      0.91      3855\n",
      "\n",
      "AUC Score: \n",
      " {'Logistic Regression': 0.5165876072362174, 'KNN': 0.5196644077403801, 'Naives Bayes': 0.4953917126463997, 'Random Forest Classifier': 0.529008637493154, 'XGboost': 0.47267632689497485, 'SVM': 0.5067622046594391, 'Gradient Boosting': 0.6379598645959643} \n",
      "\n",
      "Mean CV Score (Recall): \n",
      " {'Logistic Regression': 0.5925340360122968, 'KNN': 0.5607001693958216, 'Naives Bayes': 0.7789510006901311, 'Random Forest Classifier': 0.04622623753058536, 'XGboost': 0.07080117949683168, 'SVM': 0.48701298701298706, 'Gradient Boosting': 0.007227555053642011}\n"
     ]
    },
    {
     "name": "stderr",
     "output_type": "stream",
     "text": [
      "C:\\Users\\yeosi\\anaconda3\\envs\\baseclone\\lib\\site-packages\\sklearn\\metrics\\_classification.py:1221: UndefinedMetricWarning: Precision and F-score are ill-defined and being set to 0.0 in labels with no predicted samples. Use `zero_division` parameter to control this behavior.\n",
      "  _warn_prf(average, modifier, msg_start, len(result))\n"
     ]
    },
    {
     "data": {
      "text/plain": [
       "(None, None)"
      ]
     },
     "execution_count": 81,
     "metadata": {},
     "output_type": "execute_result"
    }
   ],
   "source": [
    "fit_score (X, y, imbal_tech, preprocessor, classifiers, imbalance = True)"
   ]
  },
  {
   "cell_type": "markdown",
   "id": "74420457",
   "metadata": {},
   "source": [
    "Confusion matrix results are highly similar to the previous results. It seems that using min max scaler and standard scaler for categorical and continuous features respectively does not really improve the results. In fact, the AUC scores are much worse off. Hence, we will now explore adjusting class weights for the labels. "
   ]
  },
  {
   "cell_type": "markdown",
   "id": "6170b2a4",
   "metadata": {},
   "source": [
    "## (d) Adjusting Class weights in ML and Standard Scaler"
   ]
  },
  {
   "cell_type": "code",
   "execution_count": 82,
   "id": "cf254d3e",
   "metadata": {},
   "outputs": [],
   "source": [
    "# No oversampling technique is needed, thus we assign it to an empty list\n",
    "imbal_tech = []\n",
    "\n",
    "# Define the scaling or normalisation technique to be applied\n",
    "preprocessor =  StandardScaler()\n",
    "\n",
    "# Define the classifiers to be used for model training\n",
    "classifiers = {\"Logistic Regression\": LogisticRegression(solver = 'liblinear', class_weight = 'balanced', random_state = random),\n",
    "          \"KNN\": KNeighborsClassifier(n_neighbors = 5, p = 2, weights = 'distance'),\n",
    "          \"Random Forest Classifier\": RandomForestClassifier(n_estimators = 50, criterion = 'entropy', class_weight = 'balanced', random_state = random),\n",
    "          \"XGboost\": XGBClassifier(scale_pos_weight= 15.7 , objective='binary:logistic', random_state =random),\n",
    "           \"SVM\": SVC(class_weight={0:1.0, 1:15.7}, probability=True, random_state = random)}\n"
   ]
  },
  {
   "cell_type": "code",
   "execution_count": 83,
   "id": "4589a688",
   "metadata": {},
   "outputs": [
    {
     "name": "stdout",
     "output_type": "stream",
     "text": [
      "Logistic Regression \n",
      "\n",
      "              precision    recall  f1-score   support\n",
      "\n",
      "           0       0.99      0.60      0.75      3624\n",
      "           1       0.13      0.91      0.22       231\n",
      "\n",
      "    accuracy                           0.62      3855\n",
      "   macro avg       0.56      0.75      0.48      3855\n",
      "weighted avg       0.94      0.62      0.71      3855\n",
      "\n",
      "KNN \n",
      "\n",
      "              precision    recall  f1-score   support\n",
      "\n",
      "           0       0.94      0.99      0.97      3624\n",
      "           1       0.27      0.03      0.06       231\n",
      "\n",
      "    accuracy                           0.94      3855\n",
      "   macro avg       0.60      0.51      0.51      3855\n",
      "weighted avg       0.90      0.94      0.91      3855\n",
      "\n",
      "Random Forest Classifier \n",
      "\n",
      "              precision    recall  f1-score   support\n",
      "\n",
      "           0       0.94      1.00      0.97      3624\n",
      "           1       1.00      0.01      0.03       231\n",
      "\n",
      "    accuracy                           0.94      3855\n",
      "   macro avg       0.97      0.51      0.50      3855\n",
      "weighted avg       0.94      0.94      0.91      3855\n",
      "\n",
      "XGboost \n",
      "\n",
      "              precision    recall  f1-score   support\n",
      "\n",
      "           0       0.95      0.94      0.95      3624\n",
      "           1       0.24      0.29      0.27       231\n",
      "\n",
      "    accuracy                           0.90      3855\n",
      "   macro avg       0.60      0.62      0.61      3855\n",
      "weighted avg       0.91      0.90      0.91      3855\n",
      "\n",
      "SVM \n",
      "\n",
      "              precision    recall  f1-score   support\n",
      "\n",
      "           0       0.97      0.77      0.86      3624\n",
      "           1       0.15      0.64      0.25       231\n",
      "\n",
      "    accuracy                           0.76      3855\n",
      "   macro avg       0.56      0.71      0.55      3855\n",
      "weighted avg       0.92      0.76      0.82      3855\n",
      "\n",
      "AUC Score: \n",
      " {'Logistic Regression': 0.7967488771139316, 'KNN': 0.5312046331307595, 'Random Forest Classifier': 0.7573225266012785, 'XGboost': 0.6866946072768757, 'SVM': 0.5025701415147362} \n",
      "\n",
      "Mean CV Score (Recall): \n",
      " {'Logistic Regression': 0.8555430077169207, 'KNN': 0.028897672375933246, 'Random Forest Classifier': 0.008664282577326056, 'XGboost': 0.1950875211744777, 'SVM': 0.5187903883556059}\n"
     ]
    },
    {
     "data": {
      "text/plain": [
       "(None, None)"
      ]
     },
     "execution_count": 83,
     "metadata": {},
     "output_type": "execute_result"
    }
   ],
   "source": [
    "# set imbalance = False as there are no oversampling techniques to be applied\n",
    "fit_score (X, y, imbal_tech, preprocessor, classifiers, imbalance = False)"
   ]
  },
  {
   "cell_type": "markdown",
   "id": "94124d43",
   "metadata": {},
   "source": [
    "The Recall score for logistic regression is highest at 0.91. The AUC Score for logistic regression is also pretty decent at 0.796. There is no overfitting for the model as well.\n",
    "Therefore, we will proceed to do hyper-parameter tuning for logistic regression model. "
   ]
  },
  {
   "cell_type": "markdown",
   "id": "1af5fab9",
   "metadata": {},
   "source": [
    "### Hyper-parameter tuning for logistic regression model"
   ]
  },
  {
   "cell_type": "code",
   "execution_count": 84,
   "id": "fc202e54",
   "metadata": {},
   "outputs": [],
   "source": [
    "# Scale the X train and X test using standard scaler\n",
    "stand_scal = StandardScaler()\n",
    "X_train_scal = stand_scal.fit_transform(X_train)"
   ]
  },
  {
   "cell_type": "code",
   "execution_count": 85,
   "id": "3ebe2daf",
   "metadata": {},
   "outputs": [],
   "source": [
    "# Only do transform on test set \n",
    "X_test_scal = stand_scal.transform(X_test)"
   ]
  },
  {
   "cell_type": "code",
   "execution_count": 86,
   "id": "af48eb71",
   "metadata": {},
   "outputs": [
    {
     "name": "stdout",
     "output_type": "stream",
     "text": [
      "Fitting 30 folds for each of 30 candidates, totalling 900 fits\n"
     ]
    },
    {
     "name": "stderr",
     "output_type": "stream",
     "text": [
      "[Parallel(n_jobs=-1)]: Using backend LokyBackend with 8 concurrent workers.\n",
      "[Parallel(n_jobs=-1)]: Done  34 tasks      | elapsed:    9.0s\n",
      "[Parallel(n_jobs=-1)]: Done 230 tasks      | elapsed:  3.5min\n",
      "[Parallel(n_jobs=-1)]: Done 587 tasks      | elapsed:  6.8min\n",
      "[Parallel(n_jobs=-1)]: Done 900 out of 900 | elapsed:  7.5min finished\n"
     ]
    }
   ],
   "source": [
    "# define models and parameters\n",
    "model = LogisticRegression()\n",
    "solvers = ['newton-cg', 'lbfgs', 'liblinear']\n",
    "penalty = ['l2','l1']\n",
    "c_values = [100, 10, 1.0, 0.1, 0.01]\n",
    "class_weight = ['balanced']\n",
    "\n",
    "# define grid search\n",
    "grid = dict(solver=solvers,penalty=penalty,C=c_values, class_weight = class_weight)\n",
    "cv = RepeatedStratifiedKFold(n_splits=10, n_repeats=3, random_state=1)\n",
    "grid_search = GridSearchCV(estimator=model, param_grid=grid, n_jobs=-1, cv=cv ,scoring = 'f1',error_score=0, verbose = 1)\n",
    "grid_result = grid_search.fit(X_train_scal, y_train)"
   ]
  },
  {
   "cell_type": "code",
   "execution_count": 315,
   "id": "8103c008",
   "metadata": {},
   "outputs": [
    {
     "data": {
      "text/plain": [
       "array([0, 1, 0, ..., 0, 1, 1], dtype=int64)"
      ]
     },
     "execution_count": 315,
     "metadata": {},
     "output_type": "execute_result"
    }
   ],
   "source": [
    "y_pred = grid_search.predict(X_test_scal)\n",
    "y_pred"
   ]
  },
  {
   "cell_type": "code",
   "execution_count": 316,
   "id": "a966e7df",
   "metadata": {},
   "outputs": [
    {
     "name": "stdout",
     "output_type": "stream",
     "text": [
      "              precision    recall  f1-score   support\n",
      "\n",
      "           0       0.99      0.59      0.74      3624\n",
      "           1       0.13      0.92      0.22       231\n",
      "\n",
      "    accuracy                           0.61      3855\n",
      "   macro avg       0.56      0.76      0.48      3855\n",
      "weighted avg       0.94      0.61      0.71      3855\n",
      "\n"
     ]
    }
   ],
   "source": [
    "print(classification_report(y_test, y_pred))"
   ]
  },
  {
   "cell_type": "code",
   "execution_count": 87,
   "id": "1022d887",
   "metadata": {},
   "outputs": [
    {
     "data": {
      "text/plain": [
       "{'C': 0.01, 'class_weight': 'balanced', 'penalty': 'l2', 'solver': 'liblinear'}"
      ]
     },
     "execution_count": 87,
     "metadata": {},
     "output_type": "execute_result"
    }
   ],
   "source": [
    "#Best parameters from grid search\n",
    "grid_search.best_params_"
   ]
  },
  {
   "cell_type": "code",
   "execution_count": 88,
   "id": "0c1cf6d3",
   "metadata": {},
   "outputs": [
    {
     "data": {
      "text/plain": [
       "<matplotlib.legend.Legend at 0x1df80abfa60>"
      ]
     },
     "execution_count": 88,
     "metadata": {},
     "output_type": "execute_result"
    },
    {
     "data": {
      "image/png": "[encoded data removed]",
      "text/plain": [
       "<Figure size 432x288 with 1 Axes>"
      ]
     },
     "metadata": {},
     "output_type": "display_data"
    }
   ],
   "source": [
    "y_pred_proba = grid_search.predict_proba(X_test_scal)[::,1]\n",
    "fpr, tpr, _ = metrics.roc_curve(y_test,  y_pred_proba)\n",
    "auc = metrics.roc_auc_score(y_test, y_pred_proba)\n",
    "\n",
    "#create ROC curve\n",
    "plt.plot(fpr,tpr,label=\"AUC=\"+str(auc))\n",
    "plt.ylabel('True Positive Rate')\n",
    "plt.xlabel('False Positive Rate')\n",
    "plt.legend(loc=4)"
   ]
  },
  {
   "cell_type": "markdown",
   "id": "4c7d77e5",
   "metadata": {},
   "source": [
    "The recall results improved by 0.02 and the AUC score also increased. This seems to be the best model out of all models based on the selected metrics. "
   ]
  },
  {
   "cell_type": "markdown",
   "id": "913ea1f6",
   "metadata": {},
   "source": [
    "# 3. Selecting the best model - Logistic Regression Model with class weights adjusted and standard scaler"
   ]
  },
  {
   "cell_type": "markdown",
   "id": "871978e6",
   "metadata": {},
   "source": [
    "The best model out of all trained models is the Logistic Regression Model with class weights adjusted for the imbalanced dataset and data scaled with standard scaler after hyperparameter tuning using gridsearchCV. This is evaluated based on the metrics - Recall and AUC Score. \n",
    "The recall and AUC score for the best model is the highest among all. Thus, we will select this model and further evaluate its feasibility with business impacts. "
   ]
  },
  {
   "cell_type": "code",
   "execution_count": 89,
   "id": "4f32d73b",
   "metadata": {},
   "outputs": [],
   "source": [
    "# Create an instance of the logistic regression classifier with the best parameters from grid search\n",
    "classifier = LogisticRegression(C = 0.01, class_weight = 'balanced', penalty = 'l2', solver = 'liblinear')"
   ]
  },
  {
   "cell_type": "code",
   "execution_count": 90,
   "id": "534c120d",
   "metadata": {},
   "outputs": [
    {
     "data": {
      "text/plain": [
       "LogisticRegression(C=0.01, class_weight='balanced', solver='liblinear')"
      ]
     },
     "execution_count": 90,
     "metadata": {},
     "output_type": "execute_result"
    }
   ],
   "source": [
    "# Fit the model\n",
    "classifier.fit(X_train_scal, y_train)"
   ]
  },
  {
   "cell_type": "code",
   "execution_count": 91,
   "id": "f29ab1c2",
   "metadata": {},
   "outputs": [
    {
     "data": {
      "text/plain": [
       "array([0, 1, 0, ..., 0, 1, 1], dtype=int64)"
      ]
     },
     "execution_count": 91,
     "metadata": {},
     "output_type": "execute_result"
    }
   ],
   "source": [
    "# Predict results using the model \n",
    "y_pred= classifier.predict(X_test_scal)\n",
    "y_pred"
   ]
  },
  {
   "cell_type": "code",
   "execution_count": 92,
   "id": "89ebe354",
   "metadata": {},
   "outputs": [
    {
     "name": "stdout",
     "output_type": "stream",
     "text": [
      "              precision    recall  f1-score   support\n",
      "\n",
      "           0       0.99      0.59      0.74      3624\n",
      "           1       0.13      0.92      0.22       231\n",
      "\n",
      "    accuracy                           0.61      3855\n",
      "   macro avg       0.56      0.76      0.48      3855\n",
      "weighted avg       0.94      0.61      0.71      3855\n",
      "\n"
     ]
    }
   ],
   "source": [
    "print(classification_report(y_test, y_pred))"
   ]
  },
  {
   "cell_type": "code",
   "execution_count": 93,
   "id": "082ce939",
   "metadata": {},
   "outputs": [
    {
     "name": "stdout",
     "output_type": "stream",
     "text": [
      "[[2151 1473]\n",
      " [  19  212]]\n"
     ]
    },
    {
     "data": {
      "text/plain": [
       "<AxesSubplot:>"
      ]
     },
     "execution_count": 93,
     "metadata": {},
     "output_type": "execute_result"
    },
    {
     "data": {
      "image/png": "[encoded data removed]",
      "text/plain": [
       "<Figure size 432x288 with 2 Axes>"
      ]
     },
     "metadata": {},
     "output_type": "display_data"
    }
   ],
   "source": [
    "# Visualise the confusion matrix \n",
    "cm= confusion_matrix(y_test, y_pred)  \n",
    "\n",
    "print(cm)\n",
    "\n",
    "sns.heatmap(cm, annot=True)"
   ]
  },
  {
   "cell_type": "code",
   "execution_count": 94,
   "id": "b1c6bccf",
   "metadata": {},
   "outputs": [
    {
     "name": "stdout",
     "output_type": "stream",
     "text": [
      "Mean recall-Score: 0.8946\n"
     ]
    }
   ],
   "source": [
    "# Check for CV score based on recall to ensure that there is no overfitting \n",
    "cv = RepeatedStratifiedKFold(n_splits=5, n_repeats=5, random_state= random)\n",
    "scores = cross_val_score(classifier, X_train_scal, y_train, scoring='recall', cv=cv, n_jobs=-1)\n",
    "print('Mean recall-Score: %.4f' % np.mean(scores))"
   ]
  },
  {
   "cell_type": "markdown",
   "id": "007ae62d",
   "metadata": {},
   "source": [
    "No overfitting of the model is observed as the mean CV score for the train set is slightly lower than the recall score on the test set. "
   ]
  },
  {
   "cell_type": "code",
   "execution_count": 95,
   "id": "ff867494",
   "metadata": {},
   "outputs": [
    {
     "data": {
      "text/plain": [
       "Text(0.5, 1.0, 'ROC-AUC Curve')"
      ]
     },
     "execution_count": 95,
     "metadata": {},
     "output_type": "execute_result"
    },
    {
     "data": {
      "image/png": "[encoded data removed]",
      "text/plain": [
       "<Figure size 432x288 with 1 Axes>"
      ]
     },
     "metadata": {},
     "output_type": "display_data"
    }
   ],
   "source": [
    "y_pred_proba = classifier.predict_proba(X_test_scal)[::,1]\n",
    "fpr, tpr, _ = metrics.roc_curve(y_test,  y_pred_proba)\n",
    "auc = metrics.roc_auc_score(y_test, y_pred_proba)\n",
    "\n",
    "#create ROC curve\n",
    "plt.plot(fpr,tpr,label=\"AUC=\"+str(auc))\n",
    "plt.ylabel('True Positive Rate')\n",
    "plt.xlabel('False Positive Rate')\n",
    "plt.legend(loc=4)\n",
    "plt.title('ROC-AUC Curve')"
   ]
  },
  {
   "cell_type": "code",
   "execution_count": 96,
   "id": "e5f78728",
   "metadata": {},
   "outputs": [
    {
     "data": {
      "text/plain": [
       "Text(0.5, 1.0, 'Precison-Recall Curve')"
      ]
     },
     "execution_count": 96,
     "metadata": {},
     "output_type": "execute_result"
    },
    {
     "data": {
      "image/png": "[encoded data removed]",
      "text/plain": [
       "<Figure size 432x288 with 1 Axes>"
      ]
     },
     "metadata": {},
     "output_type": "display_data"
    }
   ],
   "source": [
    "precision, recall, thresholds = precision_recall_curve(y_test, y_pred)\n",
    "# plot the model precision-recall curve\n",
    "plt.plot(recall, precision, marker='.', label='Logistic')\n",
    "# axis labels\n",
    "plt.xlabel('Recall')\n",
    "plt.ylabel('Precision')\n",
    "# show the legend\n",
    "plt.legend()\n",
    "plt.title('Precision-Recall Curve')"
   ]
  },
  {
   "cell_type": "markdown",
   "id": "9d4e4d39",
   "metadata": {},
   "source": [
    "Although not the perfect model, the AUC score and precision-recall curve shows that this model still has skill in differentiating the classes at different probability threshold. \n",
    "\n",
    "Let us look at the distribution of probabilities for the positive class. "
   ]
  },
  {
   "cell_type": "code",
   "execution_count": 97,
   "id": "8e598664",
   "metadata": {},
   "outputs": [
    {
     "name": "stdout",
     "output_type": "stream",
     "text": [
      "Counter({0: 2170, 1: 1685})\n"
     ]
    },
    {
     "data": {
      "image/png": "[encoded data removed]",
      "text/plain": [
       "<Figure size 432x288 with 1 Axes>"
      ]
     },
     "metadata": {},
     "output_type": "display_data"
    }
   ],
   "source": [
    "# summarize the distribution of predicted probabilities of positive class\n",
    "\n",
    "classifier.fit(X_train_scal, y_train)\n",
    "yhat = classifier.predict_proba(X_test_scal)\n",
    "# retrieve just the probabilities for the positive class\n",
    "pos_probs = yhat[:, 1]\n",
    "# predict class labels\n",
    "yhat = classifier.predict(X_test_scal)\n",
    "# summarize the distribution of class labels\n",
    "print(Counter(yhat))\n",
    "# create a histogram of the predicted probabilities\n",
    "plt.hist(pos_probs, bins=50)\n",
    "plt.show()"
   ]
  },
  {
   "cell_type": "markdown",
   "id": "0c93a5de",
   "metadata": {},
   "source": [
    "**Overall:** \n",
    "\n",
    "- 212 out of 231 (92%) fraud cases are caught by model, probability > 0.5\n",
    "- 19 (8%) fraud cases undetected , probability < 0.5\n",
    "- 1473 flagged transactions but not fraud cases (false positive)\n",
    "\n",
    "At this point, there is a need to bring in the costs of Type I error and Type II error to decide whether the model can be deployed as it is. Although the recall is good and catch most of the fraud cases, there is a high number of false positives , which means that the comapny will have to spend more on cost of monitoring and investigating for flagged transactions. In this case, the cost of false postitives might more than the cost of undetected fraud or it might be significantly higher than what the company is willing to spend. Therefore, we will need to know the true costs in order to determine whether the optimal probability threshold should be adjusted furtehr for this model before deployment. \n",
    "\n",
    "1. False positives (Type I error) --- incur cost of human labour for investigating the flagged transactions\n",
    "2. False negatives (Type II error) --- incur cost of undetected fraud\n",
    "\n",
    "**In the event in which the cost of monitoring and investigation > cost of undetected fraud, we will shift the probability threshold to the right to decrease false positives cases**\n",
    "\n",
    "**In the event in which the cost of undetected fraud > cost of monitoring and investigation, we will shift the probability threshold to the left to catch more fraud cases but with the expense of higher false positive cases.** "
   ]
  },
  {
   "cell_type": "markdown",
   "id": "ed6c0224",
   "metadata": {},
   "source": [
    "## (a) Adjusting probability threshold for increase recall - catch more fraud cases\n",
    "\n",
    "From the probability distribution, it seems to be bimodal and most of the fraud cases tend to fall on the right side of the distribution. In the event in which the cost of undetected fraud > cost of monitoring and investigation, we will shift the probability threshold to the left to catch more fraud cases but with the expense of higher false positive cases.\n",
    "\n",
    "Thus, looking at the probability distribution, we will explore setting the threshold at 0.4, at the cut-off point where the distinction between the 2 distinct groups shows the most. This will likely catch more fraud cases, but with an increase in false positive cases."
   ]
  },
  {
   "cell_type": "code",
   "execution_count": 103,
   "id": "e49cf3f5",
   "metadata": {},
   "outputs": [
    {
     "data": {
      "text/plain": [
       "array([0, 1, 0, ..., 0, 1, 1])"
      ]
     },
     "execution_count": 103,
     "metadata": {},
     "output_type": "execute_result"
    }
   ],
   "source": [
    "# Predict for x test with a probability threshold of 0.4\n",
    "y_pred_new_threshold = (classifier.predict_proba(X_test_scal)[:,1]>=0.4).astype(int)\n",
    "y_pred_new_threshold"
   ]
  },
  {
   "cell_type": "code",
   "execution_count": 104,
   "id": "f3505b54",
   "metadata": {},
   "outputs": [
    {
     "name": "stdout",
     "output_type": "stream",
     "text": [
      "              precision    recall  f1-score   support\n",
      "\n",
      "           0       1.00      0.57      0.73      3624\n",
      "           1       0.13      0.96      0.22       231\n",
      "\n",
      "    accuracy                           0.60      3855\n",
      "   macro avg       0.56      0.77      0.47      3855\n",
      "weighted avg       0.94      0.60      0.70      3855\n",
      "\n"
     ]
    }
   ],
   "source": [
    "print(classification_report(y_test, y_pred_new_threshold))"
   ]
  },
  {
   "cell_type": "code",
   "execution_count": 105,
   "id": "fc2d0913",
   "metadata": {},
   "outputs": [
    {
     "name": "stdout",
     "output_type": "stream",
     "text": [
      "[[2075 1549]\n",
      " [   9  222]]\n"
     ]
    },
    {
     "data": {
      "text/plain": [
       "<AxesSubplot:>"
      ]
     },
     "execution_count": 105,
     "metadata": {},
     "output_type": "execute_result"
    },
    {
     "data": {
      "image/png": "[encoded data removed]",
      "text/plain": [
       "<Figure size 432x288 with 2 Axes>"
      ]
     },
     "metadata": {},
     "output_type": "display_data"
    }
   ],
   "source": [
    "cm= confusion_matrix(y_test, y_pred_new_threshold)  \n",
    "\n",
    "print(cm)\n",
    "\n",
    "sns.heatmap(cm, annot=True)"
   ]
  },
  {
   "cell_type": "code",
   "execution_count": 106,
   "id": "1edfe49b",
   "metadata": {},
   "outputs": [
    {
     "data": {
      "text/plain": [
       "<matplotlib.legend.Legend at 0x1df90839250>"
      ]
     },
     "execution_count": 106,
     "metadata": {},
     "output_type": "execute_result"
    },
    {
     "data": {
      "image/png": "[encoded data removed]",
      "text/plain": [
       "<Figure size 432x288 with 1 Axes>"
      ]
     },
     "metadata": {},
     "output_type": "display_data"
    }
   ],
   "source": [
    "precision, recall, thresholds = precision_recall_curve(y_test, y_pred_new_threshold)\n",
    "# plot the model precision-recall curve\n",
    "plt.plot(recall, precision, marker='.', label='Logistic')\n",
    "# axis labels\n",
    "plt.xlabel('Recall')\n",
    "plt.ylabel('Precision')\n",
    "# show the legend\n",
    "plt.legend()"
   ]
  },
  {
   "cell_type": "markdown",
   "id": "88bf13e3",
   "metadata": {},
   "source": [
    "Indeed, the model caught 10 more fraud cases but there are 76 more false positive cases. At this point, if the cost of monitoring and investigating is still kept under control and did not exceed the cost of undetected fraud, this model will be deployable with probability threshold set at 0.4. "
   ]
  },
  {
   "cell_type": "markdown",
   "id": "9335af7a",
   "metadata": {},
   "source": [
    "## (b) Adjusting probability threshold to reduce the cost of monitoring and investigation\n",
    "\n",
    "In the event in which the cost of monitoring and investigation > cost of undetected fraud, we will shift the probability threshold to the right to decrease false positives cases and cost of investigating flagged transactions. \n",
    "\n",
    "For this section, we will explore optimising the F1-score to get a balance between precision and recall. The probability threshold will likely shift to the left. "
   ]
  },
  {
   "cell_type": "code",
   "execution_count": 107,
   "id": "b6d47bf7",
   "metadata": {},
   "outputs": [
    {
     "name": "stdout",
     "output_type": "stream",
     "text": [
      "Threshold=0.640, F-Score=0.24843\n"
     ]
    }
   ],
   "source": [
    "# apply threshold to positive probabilities to create labels\n",
    "def to_labels(pos_probs, threshold):\n",
    "    return (pos_probs >= threshold).astype('int')\n",
    "\n",
    "yhat = grid_search.predict_proba(X_test_scal)\n",
    "# keep probabilities for the positive outcome only\n",
    "probs = yhat[:, 1]\n",
    "# define thresholds\n",
    "thresholds = arange(0, 1, 0.001)\n",
    "# evaluate each threshold\n",
    "scores = [f1_score(y_test, to_labels(probs, t)) for t in thresholds]\n",
    "# get best threshold\n",
    "ix = argmax(scores)\n",
    "print('Threshold=%.3f, F-Score=%.5f' % (thresholds[ix], scores[ix]))"
   ]
  },
  {
   "cell_type": "code",
   "execution_count": 108,
   "id": "08f8391a",
   "metadata": {},
   "outputs": [
    {
     "data": {
      "text/plain": [
       "array([0, 1, 0, ..., 0, 0, 1])"
      ]
     },
     "execution_count": 108,
     "metadata": {},
     "output_type": "execute_result"
    }
   ],
   "source": [
    "#Predict for x test with a probability threshold of 0.640\n",
    "y_pred_new_threshold = (grid_search.predict_proba(X_test_scal)[:,1]>=thresholds[ix]).astype(int)\n",
    "y_pred_new_threshold"
   ]
  },
  {
   "cell_type": "code",
   "execution_count": 109,
   "id": "1d551a72",
   "metadata": {},
   "outputs": [
    {
     "name": "stdout",
     "output_type": "stream",
     "text": [
      "              precision    recall  f1-score   support\n",
      "\n",
      "           0       0.97      0.76      0.85      3624\n",
      "           1       0.15      0.68      0.25       231\n",
      "\n",
      "    accuracy                           0.75      3855\n",
      "   macro avg       0.56      0.72      0.55      3855\n",
      "weighted avg       0.92      0.75      0.82      3855\n",
      "\n"
     ]
    }
   ],
   "source": [
    "print(classification_report(y_test, y_pred_new_threshold))"
   ]
  },
  {
   "cell_type": "code",
   "execution_count": 110,
   "id": "782c14f2",
   "metadata": {},
   "outputs": [
    {
     "name": "stdout",
     "output_type": "stream",
     "text": [
      "[[2741  883]\n",
      " [  73  158]]\n"
     ]
    },
    {
     "data": {
      "text/plain": [
       "<AxesSubplot:>"
      ]
     },
     "execution_count": 110,
     "metadata": {},
     "output_type": "execute_result"
    },
    {
     "data": {
      "image/png": "[encoded data removed]",
      "text/plain": [
       "<Figure size 432x288 with 2 Axes>"
      ]
     },
     "metadata": {},
     "output_type": "display_data"
    }
   ],
   "source": [
    "cm= confusion_matrix(y_test, y_pred_new_threshold)  \n",
    "\n",
    "print(cm)\n",
    "\n",
    "sns.heatmap(cm, annot=True)"
   ]
  },
  {
   "cell_type": "code",
   "execution_count": 111,
   "id": "d46c669a",
   "metadata": {},
   "outputs": [
    {
     "data": {
      "text/plain": [
       "<matplotlib.legend.Legend at 0x1df821b6d00>"
      ]
     },
     "execution_count": 111,
     "metadata": {},
     "output_type": "execute_result"
    },
    {
     "data": {
      "image/png": "[encoded data removed]",
      "text/plain": [
       "<Figure size 432x288 with 1 Axes>"
      ]
     },
     "metadata": {},
     "output_type": "display_data"
    }
   ],
   "source": [
    "precision, recall, thresholds = precision_recall_curve(y_test, y_pred_new_threshold)\n",
    "# plot the model precision-recall curve\n",
    "plt.plot(recall, precision, marker='.', label='Logistic')\n",
    "# axis labels\n",
    "plt.xlabel('Recall')\n",
    "plt.ylabel('Precision')\n",
    "# show the legend\n",
    "plt.legend()"
   ]
  },
  {
   "cell_type": "markdown",
   "id": "a397b373",
   "metadata": {},
   "source": [
    "The probability threshold has shifted left to 0.640, causing less fraud cases to be detected but the company is able to save a lot more on the cost of monitoring and investigating due to the decrease in false positives. \n",
    "\n",
    "In conclusion, the real costs incurred by the stakeholders are essential to determine if the model needs to be further adjusted for probability threshold before deployment. "
   ]
  },
  {
   "cell_type": "markdown",
   "id": "7aec222e",
   "metadata": {},
   "source": [
    "## Feature Importance"
   ]
  },
  {
   "cell_type": "code",
   "execution_count": 112,
   "id": "db4793c0",
   "metadata": {},
   "outputs": [],
   "source": [
    "classifier.fit(X_train_scal, y_train)\n",
    "#Create a dataframe to store sttributes and its coeficients \n",
    "importances = pd.DataFrame(data={\n",
    "    'Attribute': df1.iloc[:, 1::] .columns,\n",
    "    'Importance': classifier.coef_[0]\n",
    "})\n",
    "\n",
    "#Sort by coefficients \n",
    "importances = importances.sort_values(by='Importance', ascending=False)"
   ]
  },
  {
   "cell_type": "code",
   "execution_count": 119,
   "id": "b72711ce",
   "metadata": {},
   "outputs": [
    {
     "data": {
      "text/plain": [
       "<Figure size 864x720 with 0 Axes>"
      ]
     },
     "execution_count": 119,
     "metadata": {},
     "output_type": "execute_result"
    },
    {
     "data": {
      "image/png": "[encoded data removed]",
      "text/plain": [
       "<Figure size 864x360 with 1 Axes>"
      ]
     },
     "metadata": {},
     "output_type": "display_data"
    },
    {
     "data": {
      "text/plain": [
       "<Figure size 864x720 with 0 Axes>"
      ]
     },
     "metadata": {},
     "output_type": "display_data"
    }
   ],
   "source": [
    "# Plot the feature importance through coefficients for each attributes \n",
    "plt.subplots(figsize = (12,5))\n",
    "plt.bar(x=importances['Attribute'], height=importances['Importance'], color='#087E8B')\n",
    "plt.title('Feature importances obtained from coefficients', size=20)\n",
    "plt.xticks(rotation='vertical')\n",
    "plt.figure(figsize=(12,10))\n",
    "\n",
    "# Positive coeficients shows the weights for attributes that contribute to the prediction of positive class\n",
    "# Negative coeficients shows the weights for attributes that contribute to the prediction of negative class"
   ]
  },
  {
   "cell_type": "code",
   "execution_count": 114,
   "id": "138d365a",
   "metadata": {},
   "outputs": [
    {
     "data": {
      "text/html": [
       "\n",
       "    <style>\n",
       "    table.eli5-weights tr:hover {\n",
       "        filter: brightness(85%);\n",
       "    }\n",
       "</style>\n",
       "\n",
       "\n",
       "\n",
       "    \n",
       "\n",
       "    \n",
       "\n",
       "    \n",
       "\n",
       "    \n",
       "\n",
       "    \n",
       "\n",
       "    \n",
       "\n",
       "\n",
       "    \n",
       "\n",
       "    \n",
       "\n",
       "    \n",
       "\n",
       "    \n",
       "        \n",
       "\n",
       "    \n",
       "\n",
       "        \n",
       "            \n",
       "                \n",
       "                \n",
       "    \n",
       "        <p style=\"margin-bottom: 0.5em; margin-top: 0em\">\n",
       "            <b>\n",
       "    \n",
       "        y=1\n",
       "    \n",
       "</b>\n",
       "\n",
       "top features\n",
       "        </p>\n",
       "    \n",
       "    <table class=\"eli5-weights\"\n",
       "           style=\"border-collapse: collapse; border: none; margin-top: 0em; table-layout: auto; margin-bottom: 2em;\">\n",
       "        <thead>\n",
       "        <tr style=\"border: none;\">\n",
       "            \n",
       "                <th style=\"padding: 0 1em 0 0.5em; text-align: right; border: none;\" title=\"Feature weights. Note that weights do not account for feature value scales, so if feature values have different scales, features with highest weights might not be the most important.\">\n",
       "                    Weight<sup>?</sup>\n",
       "                </th>\n",
       "            \n",
       "            <th style=\"padding: 0 0.5em 0 0.5em; text-align: left; border: none;\">Feature</th>\n",
       "            \n",
       "        </tr>\n",
       "        </thead>\n",
       "        <tbody>\n",
       "        \n",
       "            <tr style=\"background-color: hsl(120, 100.00%, 92.77%); border: none;\">\n",
       "    <td style=\"padding: 0 1em 0 0.5em; text-align: right; border: none;\">\n",
       "        +0.263\n",
       "    </td>\n",
       "    <td style=\"padding: 0 0.5em 0 0.5em; text-align: left; border: none;\">\n",
       "        x12\n",
       "    </td>\n",
       "    \n",
       "</tr>\n",
       "        \n",
       "            <tr style=\"background-color: hsl(120, 100.00%, 95.60%); border: none;\">\n",
       "    <td style=\"padding: 0 1em 0 0.5em; text-align: right; border: none;\">\n",
       "        +0.130\n",
       "    </td>\n",
       "    <td style=\"padding: 0 0.5em 0 0.5em; text-align: left; border: none;\">\n",
       "        x21\n",
       "    </td>\n",
       "    \n",
       "</tr>\n",
       "        \n",
       "            <tr style=\"background-color: hsl(120, 100.00%, 97.17%); border: none;\">\n",
       "    <td style=\"padding: 0 1em 0 0.5em; text-align: right; border: none;\">\n",
       "        +0.069\n",
       "    </td>\n",
       "    <td style=\"padding: 0 0.5em 0 0.5em; text-align: left; border: none;\">\n",
       "        x1\n",
       "    </td>\n",
       "    \n",
       "</tr>\n",
       "        \n",
       "            <tr style=\"background-color: hsl(120, 100.00%, 97.48%); border: none;\">\n",
       "    <td style=\"padding: 0 1em 0 0.5em; text-align: right; border: none;\">\n",
       "        +0.058\n",
       "    </td>\n",
       "    <td style=\"padding: 0 0.5em 0 0.5em; text-align: left; border: none;\">\n",
       "        x27\n",
       "    </td>\n",
       "    \n",
       "</tr>\n",
       "        \n",
       "            <tr style=\"background-color: hsl(120, 100.00%, 97.55%); border: none;\">\n",
       "    <td style=\"padding: 0 1em 0 0.5em; text-align: right; border: none;\">\n",
       "        +0.056\n",
       "    </td>\n",
       "    <td style=\"padding: 0 0.5em 0 0.5em; text-align: left; border: none;\">\n",
       "        x34\n",
       "    </td>\n",
       "    \n",
       "</tr>\n",
       "        \n",
       "            <tr style=\"background-color: hsl(120, 100.00%, 97.56%); border: none;\">\n",
       "    <td style=\"padding: 0 1em 0 0.5em; text-align: right; border: none;\">\n",
       "        +0.056\n",
       "    </td>\n",
       "    <td style=\"padding: 0 0.5em 0 0.5em; text-align: left; border: none;\">\n",
       "        x28\n",
       "    </td>\n",
       "    \n",
       "</tr>\n",
       "        \n",
       "        \n",
       "            <tr style=\"background-color: hsl(120, 100.00%, 97.56%); border: none;\">\n",
       "                <td colspan=\"2\" style=\"padding: 0 0.5em 0 0.5em; text-align: center; border: none; white-space: nowrap;\">\n",
       "                    <i>&hellip; 7 more positive &hellip;</i>\n",
       "                </td>\n",
       "            </tr>\n",
       "        \n",
       "\n",
       "        \n",
       "            <tr style=\"background-color: hsl(0, 100.00%, 97.20%); border: none;\">\n",
       "                <td colspan=\"2\" style=\"padding: 0 0.5em 0 0.5em; text-align: center; border: none; white-space: nowrap;\">\n",
       "                    <i>&hellip; 10 more negative &hellip;</i>\n",
       "                </td>\n",
       "            </tr>\n",
       "        \n",
       "        \n",
       "            <tr style=\"background-color: hsl(0, 100.00%, 97.20%); border: none;\">\n",
       "    <td style=\"padding: 0 1em 0 0.5em; text-align: right; border: none;\">\n",
       "        -0.068\n",
       "    </td>\n",
       "    <td style=\"padding: 0 0.5em 0 0.5em; text-align: left; border: none;\">\n",
       "        x5\n",
       "    </td>\n",
       "    \n",
       "</tr>\n",
       "        \n",
       "            <tr style=\"background-color: hsl(0, 100.00%, 97.15%); border: none;\">\n",
       "    <td style=\"padding: 0 1em 0 0.5em; text-align: right; border: none;\">\n",
       "        -0.070\n",
       "    </td>\n",
       "    <td style=\"padding: 0 0.5em 0 0.5em; text-align: left; border: none;\">\n",
       "        x3\n",
       "    </td>\n",
       "    \n",
       "</tr>\n",
       "        \n",
       "            <tr style=\"background-color: hsl(0, 100.00%, 96.96%); border: none;\">\n",
       "    <td style=\"padding: 0 1em 0 0.5em; text-align: right; border: none;\">\n",
       "        -0.076\n",
       "    </td>\n",
       "    <td style=\"padding: 0 0.5em 0 0.5em; text-align: left; border: none;\">\n",
       "        x7\n",
       "    </td>\n",
       "    \n",
       "</tr>\n",
       "        \n",
       "            <tr style=\"background-color: hsl(0, 100.00%, 96.93%); border: none;\">\n",
       "    <td style=\"padding: 0 1em 0 0.5em; text-align: right; border: none;\">\n",
       "        -0.078\n",
       "    </td>\n",
       "    <td style=\"padding: 0 0.5em 0 0.5em; text-align: left; border: none;\">\n",
       "        x0\n",
       "    </td>\n",
       "    \n",
       "</tr>\n",
       "        \n",
       "            <tr style=\"background-color: hsl(0, 100.00%, 96.65%); border: none;\">\n",
       "    <td style=\"padding: 0 1em 0 0.5em; text-align: right; border: none;\">\n",
       "        -0.088\n",
       "    </td>\n",
       "    <td style=\"padding: 0 0.5em 0 0.5em; text-align: left; border: none;\">\n",
       "        x26\n",
       "    </td>\n",
       "    \n",
       "</tr>\n",
       "        \n",
       "            <tr style=\"background-color: hsl(0, 100.00%, 96.44%); border: none;\">\n",
       "    <td style=\"padding: 0 1em 0 0.5em; text-align: right; border: none;\">\n",
       "        -0.096\n",
       "    </td>\n",
       "    <td style=\"padding: 0 0.5em 0 0.5em; text-align: left; border: none;\">\n",
       "        x25\n",
       "    </td>\n",
       "    \n",
       "</tr>\n",
       "        \n",
       "            <tr style=\"background-color: hsl(0, 100.00%, 96.28%); border: none;\">\n",
       "    <td style=\"padding: 0 1em 0 0.5em; text-align: right; border: none;\">\n",
       "        -0.102\n",
       "    </td>\n",
       "    <td style=\"padding: 0 0.5em 0 0.5em; text-align: left; border: none;\">\n",
       "        x35\n",
       "    </td>\n",
       "    \n",
       "</tr>\n",
       "        \n",
       "            <tr style=\"background-color: hsl(0, 100.00%, 94.84%); border: none;\">\n",
       "    <td style=\"padding: 0 1em 0 0.5em; text-align: right; border: none;\">\n",
       "        -0.163\n",
       "    </td>\n",
       "    <td style=\"padding: 0 0.5em 0 0.5em; text-align: left; border: none;\">\n",
       "        x11\n",
       "    </td>\n",
       "    \n",
       "</tr>\n",
       "        \n",
       "            <tr style=\"background-color: hsl(0, 100.00%, 93.99%); border: none;\">\n",
       "    <td style=\"padding: 0 1em 0 0.5em; text-align: right; border: none;\">\n",
       "        -0.202\n",
       "    </td>\n",
       "    <td style=\"padding: 0 0.5em 0 0.5em; text-align: left; border: none;\">\n",
       "        x18\n",
       "    </td>\n",
       "    \n",
       "</tr>\n",
       "        \n",
       "            <tr style=\"background-color: hsl(0, 100.00%, 91.64%); border: none;\">\n",
       "    <td style=\"padding: 0 1em 0 0.5em; text-align: right; border: none;\">\n",
       "        -0.324\n",
       "    </td>\n",
       "    <td style=\"padding: 0 0.5em 0 0.5em; text-align: left; border: none;\">\n",
       "        x10\n",
       "    </td>\n",
       "    \n",
       "</tr>\n",
       "        \n",
       "            <tr style=\"background-color: hsl(0, 100.00%, 87.78%); border: none;\">\n",
       "    <td style=\"padding: 0 1em 0 0.5em; text-align: right; border: none;\">\n",
       "        -0.557\n",
       "    </td>\n",
       "    <td style=\"padding: 0 0.5em 0 0.5em; text-align: left; border: none;\">\n",
       "        x14\n",
       "    </td>\n",
       "    \n",
       "</tr>\n",
       "        \n",
       "            <tr style=\"background-color: hsl(0, 100.00%, 85.48%); border: none;\">\n",
       "    <td style=\"padding: 0 1em 0 0.5em; text-align: right; border: none;\">\n",
       "        -0.713\n",
       "    </td>\n",
       "    <td style=\"padding: 0 0.5em 0 0.5em; text-align: left; border: none;\">\n",
       "        x19\n",
       "    </td>\n",
       "    \n",
       "</tr>\n",
       "        \n",
       "            <tr style=\"background-color: hsl(0, 100.00%, 84.60%); border: none;\">\n",
       "    <td style=\"padding: 0 1em 0 0.5em; text-align: right; border: none;\">\n",
       "        -0.776\n",
       "    </td>\n",
       "    <td style=\"padding: 0 0.5em 0 0.5em; text-align: left; border: none;\">\n",
       "        &lt;BIAS&gt;\n",
       "    </td>\n",
       "    \n",
       "</tr>\n",
       "        \n",
       "            <tr style=\"background-color: hsl(0, 100.00%, 80.00%); border: none;\">\n",
       "    <td style=\"padding: 0 1em 0 0.5em; text-align: right; border: none;\">\n",
       "        -1.127\n",
       "    </td>\n",
       "    <td style=\"padding: 0 0.5em 0 0.5em; text-align: left; border: none;\">\n",
       "        x2\n",
       "    </td>\n",
       "    \n",
       "</tr>\n",
       "        \n",
       "\n",
       "        </tbody>\n",
       "    </table>\n",
       "\n",
       "            \n",
       "        \n",
       "\n",
       "        \n",
       "\n",
       "\n",
       "\n",
       "    \n",
       "\n",
       "    \n",
       "\n",
       "    \n",
       "\n",
       "    \n",
       "\n",
       "\n",
       "    \n",
       "\n",
       "    \n",
       "\n",
       "    \n",
       "\n",
       "    \n",
       "\n",
       "    \n",
       "\n",
       "    \n",
       "\n",
       "\n",
       "    \n",
       "\n",
       "    \n",
       "\n",
       "    \n",
       "\n",
       "    \n",
       "\n",
       "    \n",
       "\n",
       "    \n",
       "\n",
       "\n",
       "\n"
      ],
      "text/plain": [
       "<IPython.core.display.HTML object>"
      ]
     },
     "execution_count": 114,
     "metadata": {},
     "output_type": "execute_result"
    }
   ],
   "source": [
    "# Run eli5 to double confirm the weights of each attribute\n",
    "eli5.show_weights(classifier)"
   ]
  },
  {
   "cell_type": "code",
   "execution_count": 115,
   "id": "48b4f3f2",
   "metadata": {},
   "outputs": [
    {
     "data": {
      "text/html": [
       "<div>\n",
       "<style scoped>\n",
       "    .dataframe tbody tr th:only-of-type {\n",
       "        vertical-align: middle;\n",
       "    }\n",
       "\n",
       "    .dataframe tbody tr th {\n",
       "        vertical-align: top;\n",
       "    }\n",
       "\n",
       "    .dataframe thead th {\n",
       "        text-align: right;\n",
       "    }\n",
       "</style>\n",
       "<table border=\"1\" class=\"dataframe\">\n",
       "  <thead>\n",
       "    <tr style=\"text-align: right;\">\n",
       "      <th></th>\n",
       "      <th>Features</th>\n",
       "    </tr>\n",
       "  </thead>\n",
       "  <tbody>\n",
       "    <tr>\n",
       "      <th>0</th>\n",
       "      <td>AccidentArea_Urban</td>\n",
       "    </tr>\n",
       "    <tr>\n",
       "      <th>1</th>\n",
       "      <td>Sex_Male</td>\n",
       "    </tr>\n",
       "    <tr>\n",
       "      <th>2</th>\n",
       "      <td>Fault_Third Party</td>\n",
       "    </tr>\n",
       "    <tr>\n",
       "      <th>3</th>\n",
       "      <td>PoliceReportFiled_Yes</td>\n",
       "    </tr>\n",
       "    <tr>\n",
       "      <th>4</th>\n",
       "      <td>WitnessPresent_Yes</td>\n",
       "    </tr>\n",
       "    <tr>\n",
       "      <th>5</th>\n",
       "      <td>AgentType_Internal</td>\n",
       "    </tr>\n",
       "    <tr>\n",
       "      <th>6</th>\n",
       "      <td>MaritalStatus_Others</td>\n",
       "    </tr>\n",
       "    <tr>\n",
       "      <th>7</th>\n",
       "      <td>MaritalStatus_Single</td>\n",
       "    </tr>\n",
       "    <tr>\n",
       "      <th>8</th>\n",
       "      <td>Days_Policy_Accident_more than 30</td>\n",
       "    </tr>\n",
       "    <tr>\n",
       "      <th>9</th>\n",
       "      <td>Days_Policy_Claim_more than 30</td>\n",
       "    </tr>\n",
       "    <tr>\n",
       "      <th>10</th>\n",
       "      <td>AddressChange_Claim_no change</td>\n",
       "    </tr>\n",
       "    <tr>\n",
       "      <th>11</th>\n",
       "      <td>NumberOfCars_Others</td>\n",
       "    </tr>\n",
       "    <tr>\n",
       "      <th>12</th>\n",
       "      <td>PolicyType_Sport</td>\n",
       "    </tr>\n",
       "    <tr>\n",
       "      <th>13</th>\n",
       "      <td>PolicyType_Utility</td>\n",
       "    </tr>\n",
       "    <tr>\n",
       "      <th>14</th>\n",
       "      <td>VehicleCategory_Sport</td>\n",
       "    </tr>\n",
       "    <tr>\n",
       "      <th>15</th>\n",
       "      <td>VehicleCategory_Utility</td>\n",
       "    </tr>\n",
       "    <tr>\n",
       "      <th>16</th>\n",
       "      <td>Year_1995</td>\n",
       "    </tr>\n",
       "    <tr>\n",
       "      <th>17</th>\n",
       "      <td>Year_1996</td>\n",
       "    </tr>\n",
       "    <tr>\n",
       "      <th>18</th>\n",
       "      <td>BasePolicy_Collision</td>\n",
       "    </tr>\n",
       "    <tr>\n",
       "      <th>19</th>\n",
       "      <td>BasePolicy_Liability</td>\n",
       "    </tr>\n",
       "    <tr>\n",
       "      <th>20</th>\n",
       "      <td>VehiclePrice</td>\n",
       "    </tr>\n",
       "    <tr>\n",
       "      <th>21</th>\n",
       "      <td>Deductible</td>\n",
       "    </tr>\n",
       "    <tr>\n",
       "      <th>22</th>\n",
       "      <td>DriverRating</td>\n",
       "    </tr>\n",
       "    <tr>\n",
       "      <th>23</th>\n",
       "      <td>PastNumberOfClaims</td>\n",
       "    </tr>\n",
       "    <tr>\n",
       "      <th>24</th>\n",
       "      <td>AgeOfVehicle</td>\n",
       "    </tr>\n",
       "    <tr>\n",
       "      <th>25</th>\n",
       "      <td>AgeOfPolicyHolder</td>\n",
       "    </tr>\n",
       "    <tr>\n",
       "      <th>26</th>\n",
       "      <td>NumberOfSuppliments</td>\n",
       "    </tr>\n",
       "    <tr>\n",
       "      <th>27</th>\n",
       "      <td>Month</td>\n",
       "    </tr>\n",
       "    <tr>\n",
       "      <th>28</th>\n",
       "      <td>WeekOfMonth</td>\n",
       "    </tr>\n",
       "    <tr>\n",
       "      <th>29</th>\n",
       "      <td>DayOfWeek</td>\n",
       "    </tr>\n",
       "    <tr>\n",
       "      <th>30</th>\n",
       "      <td>Make</td>\n",
       "    </tr>\n",
       "    <tr>\n",
       "      <th>31</th>\n",
       "      <td>DayOfWeekClaimed</td>\n",
       "    </tr>\n",
       "    <tr>\n",
       "      <th>32</th>\n",
       "      <td>MonthClaimed</td>\n",
       "    </tr>\n",
       "    <tr>\n",
       "      <th>33</th>\n",
       "      <td>WeekOfMonthClaimed</td>\n",
       "    </tr>\n",
       "    <tr>\n",
       "      <th>34</th>\n",
       "      <td>RepNumber</td>\n",
       "    </tr>\n",
       "    <tr>\n",
       "      <th>35</th>\n",
       "      <td>Age_log</td>\n",
       "    </tr>\n",
       "  </tbody>\n",
       "</table>\n",
       "</div>"
      ],
      "text/plain": [
       "                             Features\n",
       "0                  AccidentArea_Urban\n",
       "1                            Sex_Male\n",
       "2                   Fault_Third Party\n",
       "3               PoliceReportFiled_Yes\n",
       "4                  WitnessPresent_Yes\n",
       "5                  AgentType_Internal\n",
       "6                MaritalStatus_Others\n",
       "7                MaritalStatus_Single\n",
       "8   Days_Policy_Accident_more than 30\n",
       "9      Days_Policy_Claim_more than 30\n",
       "10      AddressChange_Claim_no change\n",
       "11                NumberOfCars_Others\n",
       "12                   PolicyType_Sport\n",
       "13                 PolicyType_Utility\n",
       "14              VehicleCategory_Sport\n",
       "15            VehicleCategory_Utility\n",
       "16                          Year_1995\n",
       "17                          Year_1996\n",
       "18               BasePolicy_Collision\n",
       "19               BasePolicy_Liability\n",
       "20                       VehiclePrice\n",
       "21                         Deductible\n",
       "22                       DriverRating\n",
       "23                 PastNumberOfClaims\n",
       "24                       AgeOfVehicle\n",
       "25                  AgeOfPolicyHolder\n",
       "26                NumberOfSuppliments\n",
       "27                              Month\n",
       "28                        WeekOfMonth\n",
       "29                          DayOfWeek\n",
       "30                               Make\n",
       "31                   DayOfWeekClaimed\n",
       "32                       MonthClaimed\n",
       "33                 WeekOfMonthClaimed\n",
       "34                          RepNumber\n",
       "35                            Age_log"
      ]
     },
     "execution_count": 115,
     "metadata": {},
     "output_type": "execute_result"
    }
   ],
   "source": [
    "# Create dataframe to link the features to the column number for interpretation purpose\n",
    "pd.DataFrame(data = X.columns, columns= {'Features'})"
   ]
  },
  {
   "cell_type": "markdown",
   "id": "608deedf",
   "metadata": {},
   "source": [
    "From the above plots, the top 6 features that contribute to the prediction of a fraud case are:\n",
    "1. AccidentArea_urban\n",
    "2. Sex_Male\n",
    "3. Fault_Third Party\n",
    "4. Police_report_filed_yes\n",
    "5. Witness_present_yes\n",
    "6. AgentType_Internal"
   ]
  },
  {
   "cell_type": "markdown",
   "id": "3f844d01",
   "metadata": {},
   "source": [
    "**Finally , save the classifier model for future deployment.**"
   ]
  },
  {
   "cell_type": "code",
   "execution_count": 118,
   "id": "26396759",
   "metadata": {},
   "outputs": [],
   "source": [
    "# Save the trained model as a pickle string.\n",
    "filename = 'trained_model.sav'\n",
    "pickle.dump(classifier, open(filename, 'wb'))\n",
    "\n",
    "#Loading saved model \n",
    "loaded_model = pickle.load(open('trained_model.sav', 'rb'))\n",
    "\n",
    "#loaded_model.predict()"
   ]
  },
  {
   "cell_type": "markdown",
   "id": "bbd83bcd",
   "metadata": {},
   "source": [
    "# 4. Conclusion : Bringing in business impacts to weigh the feasibility of the model"
   ]
  },
  {
   "cell_type": "markdown",
   "id": "96331543",
   "metadata": {},
   "source": [
    "In the context of detecting fraud cases , the perfect model would be able to detect all the true fraud cases and yet not flag out any of the non-fraud transactions as fraud cases. In other words, there should be only true positives and true negatives. However, this is not realistic in machine learning models. Since this is a model to detect fraud, it is essential that we catch most of the fraud cases (Recall), while keeping the cost to monitor and investigate fraud cases flagged out by the model under control(Precision). As such , there is a need to balance between precision and recall, which is seen in the F1-score. Using F1-score as a metric is feasible if the cost of Type I and Type II errors are the same. However, in the context of fraud, the cost for type I and type II errors are not assymmetrical, which calls for the need to bring in the real cost of these errors from the stakeholders. \n",
    "\n",
    "In this project, the model selected has high recall at 0.91, which means that most of the fraud cases are captured by the model. However, there is a trade-off in the precision for the positive class , where precision is pretty low at 0.13. This indicates that there are a significant portion of false positive cases.\n",
    "\n",
    "- **False positives (Type I error) --- incur cost of human labour for investigating the flagged transactions**\n",
    "- **False negatives (Type II error) --- incur cost of fraud**\n",
    "\n",
    "As such, we will have to look at these two types of cost incurred in order to determine the optimal probability threshold to precision and recall. The model can only be deployed if the cost of human labour to investigate flagged fraud cases is significantly lower than the the cost of true fraud cases that the model did not catch. Thus, it would be important to analyse the business impact of the model before deployment. "
   ]
  },
  {
   "cell_type": "markdown",
   "id": "8c7bfe42",
   "metadata": {},
   "source": [
    "## Way ahead to incorporate business impact into the model:\n",
    "\n",
    "1. Adjusting class weights during machine learning using the true cost ratio \n",
    "    - Find out the labour cost needed for investigation (e.g cost of monitoring per fraud case) and the cost of uncaught fraud (e.g the average cost of an undetected fraud case) \n",
    "    - Calculate the cost ratio and adjust the class weights accordingly (customised class weights) in the model training process.\n",
    "    \n",
    "    \n",
    "2. Adjusting the probability threshold to balance the cost of type I errors and type II errors accordingly. \n",
    "\n",
    "3. Optimising for F1-score , which balances precision and recall of the model. \n",
    "\n"
   ]
  },
  {
   "cell_type": "markdown",
   "id": "117b07dd",
   "metadata": {},
   "source": [
    "## How can we improve this model? "
   ]
  },
  {
   "cell_type": "markdown",
   "id": "d97444aa",
   "metadata": {},
   "source": [
    "1. Include more relevant features in the machine learning process\n",
    "    - From the feature importance plot and ELI5 results of the selected model, the weights of the features that lead to the prediction of positive class are not as high. There are also lesser influencing features for the prediction of positive class.This shows that the features in the dataset might not be relevant enough for prediction.\n",
    "    - Increasing relevant features and removing those that are less relevant might improve the model\n",
    "    \n",
    "    \n",
    "2. Increase the size of data to get a bigger portion of insurance claims that are fraudulent\n",
    "    - As this is a highly imbalanced dataset, there are challenges when it comes to model training. Oversampling techniques and adjusting class weights might still not be the ideal solution in some cases. Although it is hard to get a larger proportion of fraud cases, it can help significantly in model training if there are enough positive labels. "
   ]
  }
 ],
 "metadata": {
  "kernelspec": {
   "display_name": "Python 3",
   "language": "python",
   "name": "python3"
  },
  "language_info": {
   "codemirror_mode": {
    "name": "ipython",
    "version": 3
   },
   "file_extension": ".py",
   "mimetype": "text/x-python",
   "name": "python",
   "nbconvert_exporter": "python",
   "pygments_lexer": "ipython3",
   "version": "3.8.8"
  }
 },
 "nbformat": 4,
 "nbformat_minor": 5
}
